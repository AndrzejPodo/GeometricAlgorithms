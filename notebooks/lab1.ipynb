{
 "cells": [
  {
   "cell_type": "markdown",
   "metadata": {},
   "source": [
    "# Laboratorium 1\n"
   ]
  },
  {
   "cell_type": "markdown",
   "metadata": {},
   "source": [
    "### Konfiguracja"
   ]
  },
  {
   "cell_type": "code",
   "execution_count": 1,
   "metadata": {
    "pycharm": {
     "is_executing": false
    }
   },
   "outputs": [],
   "source": [
    "import numpy as np\n",
    "import matplotlib.pyplot as plt\n",
    "import matplotlib.collections as mcoll\n",
    "import matplotlib.colors as mcolors\n",
    "import json as js\n",
    "import math\n",
    "import random\n",
    "from scipy.stats import linregress\n",
    "\n",
    "\n",
    "TEN_TO_FIVE = int(math.pow(10, 5))\n",
    "TEN_TO_FOURTEEN = int(math.pow(10, 14))"
   ]
  },
  {
   "cell_type": "markdown",
   "metadata": {},
   "source": [
    "### Interfejsy\n",
    "\n",
    "[Dostępne kolory](https://matplotlib.org/3.1.1/gallery/color/named_colors.html)\n",
    "\n",
    "[Dostępne znaczniki punktów](https://matplotlib.org/3.1.1/api/markers_api.html#module-matplotlib.markers)"
   ]
  },
  {
   "cell_type": "code",
   "execution_count": 2,
   "metadata": {
    "pycharm": {
     "is_executing": false
    }
   },
   "outputs": [],
   "source": [
    "class PointsCollection:\n",
    "    def __init__(self, points = [], color = None, marker = None):\n",
    "        self.points = np.array(points)\n",
    "        self.color = color\n",
    "        self.marker = marker\n",
    "        \n",
    "class LinesCollection:\n",
    "    def __init__(self, lines = [], color = None):\n",
    "        self.color = color\n",
    "        self.lines = lines\n",
    "        \n",
    "    def add(self, line):\n",
    "        self.lines.append(line)\n",
    "        \n",
    "    def get_collection(self):\n",
    "        if self.color:\n",
    "            return mcoll.LineCollection(self.lines, [mcolors.to_rgba(self.color)] * len(self.lines))\n",
    "        else:\n",
    "            return mcoll.LineCollection(self.lines)\n",
    "\n",
    "class Plot:\n",
    "    def __init__(self, points=[], lines=[], json = None):\n",
    "        if json is None:\n",
    "            self.points = points\n",
    "            self.lines = lines\n",
    "        else:\n",
    "            self.points = [PointsCollection(pointsCol) for pointsCol in js.loads(json)[\"points\"]]\n",
    "            self.lines = [LinesCollection(linesCol) for linesCol in js.loads(json)[\"lines\"]]\n",
    "            \n",
    "    def draw(self):\n",
    "        plt.close()\n",
    "        ax = plt.axes()\n",
    "        for collection in self.points:\n",
    "            if collection.points.size > 0:\n",
    "                ax.scatter(*zip(*collection.points), c=collection.color, marker=collection.marker)\n",
    "        for collection in self.lines:\n",
    "            ax.add_collection(collection.get_collection())\n",
    "        ax.autoscale()\n",
    "        plt.draw()\n",
    "        \n",
    "    def toJSON(self):\n",
    "        return js.dumps({\"points\": [pointCol.points.tolist() for pointCol in self.points], \n",
    "                          \"lines\":[linesCol.lines for linesCol in self.lines]})"
   ]
  },
  {
   "cell_type": "markdown",
   "metadata": {},
   "source": [
    "### Przykład użycia"
   ]
  },
  {
   "cell_type": "code",
   "execution_count": 3,
   "metadata": {
    "pycharm": {
     "is_executing": false
    }
   },
   "outputs": [
    {
     "data": {
      "text/plain": "<Figure size 432x288 with 1 Axes>",
      "image/png": "[encoded data removed]"
     },
     "metadata": {
      "needs_background": "light"
     },
     "output_type": "display_data"
    }
   ],
   "source": [
    "%matplotlib inline\n",
    "\n",
    "plot = Plot([PointsCollection([(1, 2), (3, 1.5), (2, -1)]), \n",
    "             PointsCollection([(5, -2), (2, 2), (-2, -1)], color = 'green', marker = \"^\")], \n",
    "            [LinesCollection([[(-1,2),(-2,3)]])])\n",
    "plot.draw()\n"
   ]
  },
  {
   "cell_type": "markdown",
   "metadata": {},
   "source": [
    "### Rozwiązanie"
   ]
  },
  {
   "cell_type": "markdown",
   "metadata": {},
   "source": [
    "#### Funkcje słóżące do generowania list losowych punktów\n",
    "Funkcja losująca punkty została zaprojektowana w taki sposób, aby generator punktu losowego można było przekazać jako arguemnt. Pozwala to na implementację różnych generatorów punktu spełniających odpowiednia kowencję tj. przyjmujących dwa argumenty typu krotka na wejście. Zaimplementowałem następujące generatory punktu:\n",
    "1. generator punktu losowego, jako argumenty podajemy zakres współżędnej x oraz zakres współżędnej y\n",
    "2. generator punktu losowego na okręgu, jako argument podajemy zakres kąta(na jakim wycinku koła chcemy losowapunktu),    oraz zakres promienia w jakim maja być punkty od punktu (0,0)\n",
    "3. generator punktu losowego na lini, jako argument podajmey krotkę skądająca się z współczynnika kierunkowego prostej oraz jej przesunięcia, oraz krotkę wyrażającą zakres w jakim maja znaleźć się obie współżędne losowanego punktu."
   ]
  },
  {
   "cell_type": "code",
   "execution_count": 4,
   "metadata": {
    "pycharm": {
     "is_executing": false
    }
   },
   "outputs": [],
   "source": [
    "def generate_random_point(range_a, range_b):\n",
    "    return random.uniform(range_a[0], range_a[1]),random.uniform(range_b[0], range_b[1])\n",
    "\n",
    "def generate_point_on_circle(angle_range, radius_range):\n",
    "    angle = random.uniform(angle_range[0], angle_range[1])\n",
    "    radius = random.uniform(radius_range[0], radius_range[1])\n",
    "    return math.cos(angle)*radius, math.sin(angle)*radius\n",
    "\n",
    "def generate_point_on_line(slope_intercept, range_x_y):\n",
    "    slope = slope_intercept[0]\n",
    "    intercept = slope_intercept[1]\n",
    "    A = range_x_y[0]\n",
    "    B = range_x_y[1]\n",
    "    if slope < 0:\n",
    "        new_A = (B-intercept)/slope\n",
    "        new_B = (A-intercept)/slope\n",
    "    if slope > 0:\n",
    "        new_A = (A-intercept)/slope\n",
    "        new_B = (B-intercept)/slope\n",
    "    \n",
    "    if new_A > A:\n",
    "        A = new_A\n",
    "    if new_B < B:\n",
    "        B = new_B\n",
    "    x = random.uniform(A, B)\n",
    "    return x, slope*x+intercept\n",
    "\n",
    "def generate_array_of_random_points(n, range_x, range_y=None, generator=generate_random_point):\n",
    "    points = []\n",
    "    if range_y is None:\n",
    "        range_y = range_x\n",
    "    for i in range(0, n):\n",
    "        points.append(generator(range_x, range_y))\n",
    "    return points\n"
   ]
  },
  {
   "cell_type": "markdown",
   "metadata": {},
   "source": [
    "#### a) 10^5 losowych punktów o współrzędnych z przedziału [-1000, 1000]"
   ]
  },
  {
   "cell_type": "code",
   "execution_count": 5,
   "metadata": {
    "pycharm": {
     "is_executing": false
    }
   },
   "outputs": [
    {
     "data": {
      "text/plain": "<Figure size 432x288 with 1 Axes>",
      "image/png": "[encoded data removed]"
     },
     "metadata": {
      "needs_background": "light"
     },
     "output_type": "display_data"
    }
   ],
   "source": [
    "%matplotlib inline\n",
    "\n",
    "points_1 = generate_array_of_random_points(TEN_TO_FIVE,(-1000,1000))\n",
    "plot1 = Plot([PointsCollection(points_1, color=\"green\")])\n",
    "plot1.draw()"
   ]
  },
  {
   "cell_type": "markdown",
   "metadata": {},
   "source": [
    "#### b) 10^5 losowych punktów o współrzędnych z przedziału [-10^14, 10^14], "
   ]
  },
  {
   "cell_type": "code",
   "execution_count": 6,
   "metadata": {
    "pycharm": {
     "is_executing": false
    }
   },
   "outputs": [
    {
     "data": {
      "text/plain": "<Figure size 432x288 with 1 Axes>",
      "image/png": "[encoded data removed]"
     },
     "metadata": {
      "needs_background": "light"
     },
     "output_type": "display_data"
    }
   ],
   "source": [
    "points_2 = generate_array_of_random_points(TEN_TO_FIVE,((-1)*TEN_TO_FOURTEEN,TEN_TO_FOURTEEN))\n",
    "plot2 = Plot([PointsCollection(points_2, color=\"blue\")])\n",
    "plot2.draw()"
   ]
  },
  {
   "cell_type": "markdown",
   "metadata": {
    "pycharm": {
     "is_executing": false
    }
   },
   "source": [
    "#### c) 1000 losowych punktów leżących na okręgu o środku (0,0) i promieniu R=100, "
   ]
  },
  {
   "cell_type": "code",
   "execution_count": 7,
   "metadata": {
    "pycharm": {
     "is_executing": false
    }
   },
   "outputs": [
    {
     "data": {
      "text/plain": "<Figure size 432x288 with 1 Axes>",
      "image/png": "[encoded data removed]"
     },
     "metadata": {
      "needs_background": "light"
     },
     "output_type": "display_data"
    }
   ],
   "source": [
    "%matplotlib inline\n",
    "\n",
    "points_3 = generate_array_of_random_points(1000,(0,2*math.pi),(100,100), generate_point_on_circle)\n",
    "plot3 = Plot([PointsCollection(points_3, color=\"red\")])\n",
    "plot3.draw()"
   ]
  },
  {
   "cell_type": "markdown",
   "metadata": {},
   "source": [
    "#### d) 1000 losowych punktów o współrzędnych z przedziału [-1000, 1000] leżących na prostej wyznaczonej przez wektor (a, b), przyjmij a = [-1.0, 0.0], b = [1.0, 0.1]"
   ]
  },
  {
   "cell_type": "code",
   "execution_count": 8,
   "metadata": {
    "pycharm": {
     "is_executing": false
    }
   },
   "outputs": [
    {
     "data": {
      "text/plain": "<Figure size 432x288 with 1 Axes>",
      "image/png": "[encoded data removed]"
     },
     "metadata": {
      "needs_background": "light"
     },
     "output_type": "display_data"
    }
   ],
   "source": [
    "%matplotlib inline\n",
    "\n",
    "slope, intercept, r_value, p_value, std_err = linregress([-1,1],[0,0.1])\n",
    "points_4 = generate_array_of_random_points(1000,(slope,intercept),(-1000,1000), generate_point_on_line)\n",
    "plot4 = Plot([PointsCollection(points_4, color=\"red\")])\n",
    "plot4.draw()"
   ]
  },
  {
   "cell_type": "markdown",
   "metadata": {},
   "source": [
    "### Klasyfikacja punktów względem prostej opartej na punktach A, B"
   ]
  },
  {
   "cell_type": "markdown",
   "metadata": {},
   "source": [
    "#### Funkcje wyliczające wyznaczniki i klasyfikator punktów\n",
    "Poniżej zdefiniowałem funkcje do klasyfikacji punktu oraz zbioru punktów. Podczas pisania funkcji starałem \n",
    "się napisać je tak aby późniejsze rysowanie wykresów wymagało jedynie zmiany jak najmniejszej ilości \n",
    "argumentów wywołania. Używając funkcji classify_points() musimy zdefiniować dokładność, czyli `epsilon` oraz \n",
    "zbiór punktów klasyfikowanych `points`. Jako opcjonalne argumenty możemy podać: \n",
    "* `matrix_generator` - definiuje on funckje która z 3 punktów tworzy macierz, napisałem dwie takie funckje\n",
    "`generate_matrix_3x3` oraz `generate_matrix_2x2`, tworzą one odpowiednio z podanych punktów macierz 3x3 lub 2x2\n",
    "* `det_evaluator` - przy pomocy tego argumentu przekazujemy do funkcji, funckję obliczającą wyznacznik, zaimpleemntowałem\n",
    "dwie funckję liczące wyznacznik `det_ev()` która oblicza wyznacznik zgodnie ze wzorem podanym na zajęciach, oraz\n",
    "`numpy_det()` która do obliczenia wyznacznika wykorzystuje funckję znajdującą się w bibliotece numpy   \n",
    "\n",
    "Kolejnymi argumentami są punkty wyznaczające prostą, oraz te pozwalające na zdefiniowanie koloru jaki będzie\n",
    "przypisany punktom po lewej, prawej i na lini"
   ]
  },
  {
   "cell_type": "code",
   "execution_count": 9,
   "metadata": {
    "pycharm": {
     "is_executing": false
    }
   },
   "outputs": [],
   "source": [
    "# [(ax,ay),(bx,by)] = array\n",
    "def det_ev(array):\n",
    "    if len(array) == 2:\n",
    "        return array[0][0]*array[1][1]-array[1][0]*array[0][1]\n",
    "    if len(array) == 3:\n",
    "        return (array[0][0]*array[1][1] + array[1][0]*array[2][1] + array[2][0]*array[0][1])-(array[2][0]*array[1][1] + array[0][0]*array[2][1] + array[1][0]*array[0][1])\n",
    "\n",
    "def numpy_det(array):\n",
    "    return np.linalg.det(np.array(array))\n",
    "\n",
    "def generate_matrix_3x3(point, point_a, point_b):\n",
    "    matrix = [[point_a[0], point_a[1],1], [point_b[0], point_b[1],1], [point[0], point[1],1]]\n",
    "    return matrix\n",
    "def generate_matrix_2x2(point, point_a, point_b):\n",
    "    matrix = [[point_a[0]-point[0], point_a[1]-point[1]], [point_b[0]-point[0], point_b[1]-point[1]]]\n",
    "    return matrix\n",
    "\n",
    "def classify_point(point, point_a, point_b, epsilon, matrix_generator, det):\n",
    "    determinant = det(matrix_generator(point, point_a, point_b))\n",
    "    if abs(determinant) > epsilon:\n",
    "        if determinant < 0:\n",
    "            return -1\n",
    "        else:\n",
    "            return 1\n",
    "    if abs(determinant) < epsilon:\n",
    "        return 0\n",
    "    \n",
    "    \n",
    "def classify_points(points,epsilon, matrix_generator = generate_matrix_2x2, det_evaluator = det_ev, point_a = (-1.0, 0.0), point_b = (1.0, 0.1), color_left='green', color_right='blue', color_on_line=\"red\"):\n",
    "    points_left = []\n",
    "    points_on_line = []\n",
    "    points_right = []\n",
    "    for point in points:\n",
    "        point_class = classify_point(point, point_a, point_b, epsilon, matrix_generator, det_evaluator)\n",
    "        if point_class > 0:\n",
    "            points_left.append(point)\n",
    "        if point_class < 0:\n",
    "            points_right.append(point)\n",
    "        if point_class == 0:\n",
    "            points_on_line.append(point)\n",
    "    \n",
    "    return PointsCollection(points_left, color=color_left),PointsCollection(points_on_line, color=color_on_line),PointsCollection(points_right, color=color_right)"
   ]
  },
  {
   "cell_type": "markdown",
   "metadata": {},
   "source": [
    "#### Wykresy dla pierwszego zbioru punktow:\n",
    " \n",
    "1. epsilon = 0.01\n",
    "  "
   ]
  },
  {
   "cell_type": "markdown",
   "source": [
    "a) macierz 2x2\n",
    "\n",
    "Dla wyznacznika liczonego ze wzoru:"
   ],
   "metadata": {
    "collapsed": false,
    "pycharm": {
     "name": "#%% md\n"
    }
   }
  },
  {
   "cell_type": "code",
   "execution_count": 10,
   "metadata": {
    "pycharm": {
     "is_executing": false
    }
   },
   "outputs": [
    {
     "name": "stdout",
     "text": [
      "Na lewo:  50035\nNa lini:  1\nNa prawo:  49964\n"
     ],
     "output_type": "stream"
    },
    {
     "data": {
      "text/plain": "<Figure size 432x288 with 1 Axes>",
      "image/png": "[encoded data removed]"
     },
     "metadata": {
      "needs_background": "light"
     },
     "output_type": "display_data"
    }
   ],
   "source": [
    "%matplotlib inline\n",
    "\n",
    "classified_points = classify_points(points_1, 0.01)\n",
    "plotX = Plot([classified_points[0],classified_points[2],classified_points[1]])\n",
    "plotX.draw()\n",
    "\n",
    "print(\"Na lewo: \", len(classified_points[0].points))\n",
    "print(\"Na lini: \", len(classified_points[1].points))\n",
    "print(\"Na prawo: \", len(classified_points[2].points))"
   ]
  },
  {
   "cell_type": "markdown",
   "source": [
    "Dla wyznacznika liczonego funkcją z biblioteki numpy:"
   ],
   "metadata": {
    "collapsed": false,
    "pycharm": {
     "name": "#%% md\n"
    }
   }
  },
  {
   "cell_type": "code",
   "execution_count": 11,
   "outputs": [
    {
     "name": "stdout",
     "text": [
      "Na lewo:  50035\nNa lini:  1\nNa prawo:  49964\n"
     ],
     "output_type": "stream"
    }
   ],
   "source": [
    "classified_points = classify_points(points_1, 0.01,det_evaluator=numpy_det)\n",
    "\n",
    "print(\"Na lewo: \", len(classified_points[0].points))\n",
    "print(\"Na lini: \", len(classified_points[1].points))\n",
    "print(\"Na prawo: \", len(classified_points[2].points))"
   ],
   "metadata": {
    "collapsed": false,
    "pycharm": {
     "name": "#%%\n",
     "is_executing": false
    }
   }
  },
  {
   "cell_type": "markdown",
   "source": [
    "a) macierz 3x3"
   ],
   "metadata": {
    "collapsed": false
   }
  },
  {
   "cell_type": "code",
   "execution_count": 12,
   "outputs": [
    {
     "name": "stdout",
     "text": [
      "Na lewo:  50035\nNa lini:  1\nNa prawo:  49964\n"
     ],
     "output_type": "stream"
    },
    {
     "data": {
      "text/plain": "<Figure size 432x288 with 1 Axes>",
      "image/png": "[encoded data removed]"
     },
     "metadata": {
      "needs_background": "light"
     },
     "output_type": "display_data"
    }
   ],
   "source": [
    "%matplotlib inline\n",
    "\n",
    "classified_points = classify_points(points_1, 0.01, generate_matrix_3x3)\n",
    "plotX = Plot([classified_points[0],classified_points[2],classified_points[1]])\n",
    "plotX.draw()\n",
    "\n",
    "print(\"Na lewo: \", len(classified_points[0].points))\n",
    "print(\"Na lini: \", len(classified_points[1].points))\n",
    "print(\"Na prawo: \", len(classified_points[2].points))"
   ],
   "metadata": {
    "collapsed": false,
    "pycharm": {
     "name": "#%%\n",
     "is_executing": false
    }
   }
  },
  {
   "cell_type": "markdown",
   "source": [
    "Dla wyznacznika liczonego funkcją z biblioteki numpy:"
   ],
   "metadata": {
    "collapsed": false
   }
  },
  {
   "cell_type": "code",
   "execution_count": 13,
   "outputs": [
    {
     "name": "stdout",
     "text": [
      "Na lewo:  50035\nNa lini:  1\nNa prawo:  49964\n"
     ],
     "output_type": "stream"
    }
   ],
   "source": [
    "classified_points = classify_points(points_1, 0.01,generate_matrix_3x3,det_evaluator=numpy_det)\n",
    "\n",
    "print(\"Na lewo: \", len(classified_points[0].points))\n",
    "print(\"Na lini: \", len(classified_points[1].points))\n",
    "print(\"Na prawo: \", len(classified_points[2].points))"
   ],
   "metadata": {
    "collapsed": false,
    "pycharm": {
     "name": "#%%\n",
     "is_executing": false
    }
   }
  },
  {
   "cell_type": "markdown",
   "source": [
    "2. epsilon = 0.1 \n",
    "\n",
    "a) macierz 2x2"
   ],
   "metadata": {
    "collapsed": false
   }
  },
  {
   "cell_type": "code",
   "execution_count": 14,
   "outputs": [
    {
     "name": "stdout",
     "text": [
      "Na lewo:  50032\nNa lini:  10\nNa prawo:  49958\n"
     ],
     "output_type": "stream"
    },
    {
     "data": {
      "text/plain": "<Figure size 432x288 with 1 Axes>",
      "image/png": "[encoded data removed]"
     },
     "metadata": {
      "needs_background": "light"
     },
     "output_type": "display_data"
    }
   ],
   "source": [
    "%matplotlib inline\n",
    "\n",
    "classified_points = classify_points(points_1, 0.1)\n",
    "plotX = Plot([classified_points[0],classified_points[2],classified_points[1]])\n",
    "plotX.draw()\n",
    "\n",
    "print(\"Na lewo: \", len(classified_points[0].points))\n",
    "print(\"Na lini: \", len(classified_points[1].points))\n",
    "print(\"Na prawo: \", len(classified_points[2].points))"
   ],
   "metadata": {
    "collapsed": false,
    "pycharm": {
     "name": "#%%\n",
     "is_executing": false
    }
   }
  },
  {
   "cell_type": "markdown",
   "source": [
    "Dla wyznacznika liczonego funkcją z biblioteki numpy:"
   ],
   "metadata": {
    "collapsed": false
   }
  },
  {
   "cell_type": "code",
   "execution_count": 15,
   "outputs": [
    {
     "name": "stdout",
     "text": [
      "Na lewo:  50032\nNa lini:  10\nNa prawo:  49958\n"
     ],
     "output_type": "stream"
    }
   ],
   "source": [
    "classified_points = classify_points(points_1, 0.1,det_evaluator=numpy_det)\n",
    "\n",
    "print(\"Na lewo: \", len(classified_points[0].points))\n",
    "print(\"Na lini: \", len(classified_points[1].points))\n",
    "print(\"Na prawo: \", len(classified_points[2].points))"
   ],
   "metadata": {
    "collapsed": false,
    "pycharm": {
     "name": "#%%\n",
     "is_executing": false
    }
   }
  },
  {
   "cell_type": "markdown",
   "source": [
    "a) macierz 3x3"
   ],
   "metadata": {
    "collapsed": false
   }
  },
  {
   "cell_type": "code",
   "execution_count": 16,
   "outputs": [
    {
     "name": "stdout",
     "text": [
      "Na lewo:  50032\nNa lini:  10\nNa prawo:  49958\n"
     ],
     "output_type": "stream"
    },
    {
     "data": {
      "text/plain": "<Figure size 432x288 with 1 Axes>",
      "image/png": "[encoded data removed]"
     },
     "metadata": {
      "needs_background": "light"
     },
     "output_type": "display_data"
    }
   ],
   "source": [
    "%matplotlib inline\n",
    "\n",
    "classified_points = classify_points(points_1, 0.1,generate_matrix_3x3)\n",
    "plotX = Plot([classified_points[0],classified_points[2],classified_points[1]])\n",
    "plotX.draw()\n",
    "\n",
    "print(\"Na lewo: \", len(classified_points[0].points))\n",
    "print(\"Na lini: \", len(classified_points[1].points))\n",
    "print(\"Na prawo: \", len(classified_points[2].points))"
   ],
   "metadata": {
    "collapsed": false,
    "pycharm": {
     "name": "#%%\n",
     "is_executing": false
    }
   }
  },
  {
   "cell_type": "markdown",
   "source": [
    "Dla wyznacznika liczonego funkcją z biblioteki numpy:"
   ],
   "metadata": {
    "collapsed": false
   }
  },
  {
   "cell_type": "code",
   "execution_count": 17,
   "outputs": [
    {
     "name": "stdout",
     "text": [
      "Na lewo:  50032\nNa lini:  10\nNa prawo:  49958\n"
     ],
     "output_type": "stream"
    }
   ],
   "source": [
    "classified_points = classify_points(points_1, 0.1,generate_matrix_3x3,det_evaluator=numpy_det)\n",
    "\n",
    "print(\"Na lewo: \", len(classified_points[0].points))\n",
    "print(\"Na lini: \", len(classified_points[1].points))\n",
    "print(\"Na prawo: \", len(classified_points[2].points))"
   ],
   "metadata": {
    "collapsed": false,
    "pycharm": {
     "name": "#%%\n",
     "is_executing": false
    }
   }
  },
  {
   "cell_type": "markdown",
   "source": [
    "3. epsilon = 1\n",
    "\n",
    "a) macierz 2x2"
   ],
   "metadata": {
    "collapsed": false
   }
  },
  {
   "cell_type": "code",
   "execution_count": 18,
   "metadata": {
    "pycharm": {
     "is_executing": false
    }
   },
   "outputs": [
    {
     "name": "stdout",
     "text": [
      "Na lewo:  50012\nNa lini:  49\nNa prawo:  49939\n"
     ],
     "output_type": "stream"
    },
    {
     "data": {
      "text/plain": "<Figure size 432x288 with 1 Axes>",
      "image/png": "[encoded data removed]"
     },
     "metadata": {
      "needs_background": "light"
     },
     "output_type": "display_data"
    }
   ],
   "source": [
    "%matplotlib inline\n",
    "\n",
    "classified_points = classify_points(points_1, 1)\n",
    "plotX = Plot([classified_points[0],classified_points[2],classified_points[1]])\n",
    "plotX.draw()\n",
    "\n",
    "print(\"Na lewo: \", len(classified_points[0].points))\n",
    "print(\"Na lini: \", len(classified_points[1].points))\n",
    "print(\"Na prawo: \", len(classified_points[2].points))"
   ]
  },
  {
   "cell_type": "markdown",
   "source": [
    "Dla wyznacznika liczonego funkcją z biblioteki numpy:"
   ],
   "metadata": {
    "collapsed": false
   }
  },
  {
   "cell_type": "code",
   "execution_count": 19,
   "outputs": [
    {
     "name": "stdout",
     "text": [
      "Na lewo:  50012\nNa lini:  49\nNa prawo:  49939\n"
     ],
     "output_type": "stream"
    }
   ],
   "source": [
    "classified_points = classify_points(points_1, 1,det_evaluator=numpy_det)\n",
    "\n",
    "print(\"Na lewo: \", len(classified_points[0].points))\n",
    "print(\"Na lini: \", len(classified_points[1].points))\n",
    "print(\"Na prawo: \", len(classified_points[2].points))"
   ],
   "metadata": {
    "collapsed": false,
    "pycharm": {
     "name": "#%%\n",
     "is_executing": false
    }
   }
  },
  {
   "cell_type": "markdown",
   "source": [
    "a) macierz 3x3"
   ],
   "metadata": {
    "collapsed": false
   }
  },
  {
   "cell_type": "code",
   "execution_count": 20,
   "outputs": [
    {
     "name": "stdout",
     "text": [
      "Na lewo:  50012\nNa lini:  49\nNa prawo:  49939\n"
     ],
     "output_type": "stream"
    },
    {
     "data": {
      "text/plain": "<Figure size 432x288 with 1 Axes>",
      "image/png": "[encoded data removed]"
     },
     "metadata": {
      "needs_background": "light"
     },
     "output_type": "display_data"
    }
   ],
   "source": [
    "%matplotlib inline\n",
    "\n",
    "classified_points = classify_points(points_1, 1,generate_matrix_3x3)\n",
    "plotX = Plot([classified_points[0],classified_points[2],classified_points[1]])\n",
    "plotX.draw()\n",
    "\n",
    "print(\"Na lewo: \", len(classified_points[0].points))\n",
    "print(\"Na lini: \", len(classified_points[1].points))\n",
    "print(\"Na prawo: \", len(classified_points[2].points))"
   ],
   "metadata": {
    "collapsed": false,
    "pycharm": {
     "name": "#%%\n",
     "is_executing": false
    }
   }
  },
  {
   "cell_type": "markdown",
   "source": [
    "Dla wyznacznika liczonego funkcją z biblioteki numpy:"
   ],
   "metadata": {
    "collapsed": false
   }
  },
  {
   "cell_type": "code",
   "execution_count": 21,
   "outputs": [
    {
     "name": "stdout",
     "text": [
      "Na lewo:  50012\nNa lini:  49\nNa prawo:  49939\n"
     ],
     "output_type": "stream"
    }
   ],
   "source": [
    "classified_points = classify_points(points_1, 1,generate_matrix_3x3,det_evaluator=numpy_det)\n",
    "\n",
    "print(\"Na lewo: \", len(classified_points[0].points))\n",
    "print(\"Na lini: \", len(classified_points[1].points))\n",
    "print(\"Na prawo: \", len(classified_points[2].points))"
   ],
   "metadata": {
    "collapsed": false,
    "pycharm": {
     "name": "#%%\n",
     "is_executing": false
    }
   }
  },
  {
   "cell_type": "markdown",
   "source": [
    "4. epsilon = 10\n",
    "\n",
    "a) macierz 2x2"
   ],
   "metadata": {
    "collapsed": false
   }
  },
  {
   "cell_type": "code",
   "execution_count": 22,
   "metadata": {
    "pycharm": {
     "is_executing": false
    }
   },
   "outputs": [
    {
     "name": "stdout",
     "text": [
      "Na lewo:  49765\nNa lini:  528\nNa prawo:  49707\n"
     ],
     "output_type": "stream"
    },
    {
     "data": {
      "text/plain": "<Figure size 432x288 with 1 Axes>",
      "image/png": "[encoded data removed]"
     },
     "metadata": {
      "needs_background": "light"
     },
     "output_type": "display_data"
    }
   ],
   "source": [
    "%matplotlib inline\n",
    "\n",
    "classified_points = classify_points(points_1, 10)\n",
    "plotX = Plot([classified_points[0],classified_points[2],classified_points[1]])\n",
    "plotX.draw()\n",
    "\n",
    "print(\"Na lewo: \", len(classified_points[0].points))\n",
    "print(\"Na lini: \", len(classified_points[1].points))\n",
    "print(\"Na prawo: \", len(classified_points[2].points))"
   ]
  },
  {
   "cell_type": "markdown",
   "source": [
    "Dla wyznacznika liczonego funkcją z biblioteki numpy:"
   ],
   "metadata": {
    "collapsed": false
   }
  },
  {
   "cell_type": "code",
   "execution_count": 23,
   "outputs": [
    {
     "name": "stdout",
     "text": [
      "Na lewo:  49765\nNa lini:  528\nNa prawo:  49707\n"
     ],
     "output_type": "stream"
    }
   ],
   "source": [
    "classified_points = classify_points(points_1, 10,det_evaluator=numpy_det)\n",
    "\n",
    "print(\"Na lewo: \", len(classified_points[0].points))\n",
    "print(\"Na lini: \", len(classified_points[1].points))\n",
    "print(\"Na prawo: \", len(classified_points[2].points))"
   ],
   "metadata": {
    "collapsed": false,
    "pycharm": {
     "name": "#%%\n",
     "is_executing": false
    }
   }
  },
  {
   "cell_type": "markdown",
   "source": [
    "a) macierz 3x3"
   ],
   "metadata": {
    "collapsed": false
   }
  },
  {
   "cell_type": "code",
   "execution_count": 24,
   "outputs": [
    {
     "name": "stdout",
     "text": [
      "Na lewo:  49765\nNa lini:  528\nNa prawo:  49707\n"
     ],
     "output_type": "stream"
    },
    {
     "data": {
      "text/plain": "<Figure size 432x288 with 1 Axes>",
      "image/png": "[encoded data removed]"
     },
     "metadata": {
      "needs_background": "light"
     },
     "output_type": "display_data"
    }
   ],
   "source": [
    "%matplotlib inline\n",
    "\n",
    "classified_points = classify_points(points_1, 10,generate_matrix_3x3)\n",
    "plotX = Plot([classified_points[0],classified_points[2],classified_points[1]])\n",
    "plotX.draw()\n",
    "\n",
    "print(\"Na lewo: \", len(classified_points[0].points))\n",
    "print(\"Na lini: \", len(classified_points[1].points))\n",
    "print(\"Na prawo: \", len(classified_points[2].points))"
   ],
   "metadata": {
    "collapsed": false,
    "pycharm": {
     "name": "#%%\n",
     "is_executing": false
    }
   }
  },
  {
   "cell_type": "markdown",
   "source": [
    "Dla wyznacznika liczonego funkcją z biblioteki numpy:"
   ],
   "metadata": {
    "collapsed": false
   }
  },
  {
   "cell_type": "code",
   "execution_count": 25,
   "outputs": [
    {
     "name": "stdout",
     "text": [
      "Na lewo:  49765\nNa lini:  528\nNa prawo:  49707\n"
     ],
     "output_type": "stream"
    }
   ],
   "source": [
    "classified_points = classify_points(points_1, 10,generate_matrix_3x3,det_evaluator=numpy_det)\n",
    "\n",
    "print(\"Na lewo: \", len(classified_points[0].points))\n",
    "print(\"Na lini: \", len(classified_points[1].points))\n",
    "print(\"Na prawo: \", len(classified_points[2].points))"
   ],
   "metadata": {
    "collapsed": false,
    "pycharm": {
     "name": "#%%\n",
     "is_executing": false
    }
   }
  },
  {
   "cell_type": "markdown",
   "metadata": {},
   "source": [
    "#### Wykres dla drugiego zbioru punktow"
   ]
  },
  {
   "cell_type": "markdown",
   "metadata": {
    "pycharm": {
     "is_executing": false,
     "name": "#%% md\n"
    }
   },
   "source": [
    "1. epsilon = 0.1 \n",
    "\n",
    "a) macierz 2x2"
   ]
  },
  {
   "cell_type": "code",
   "execution_count": 26,
   "outputs": [
    {
     "name": "stdout",
     "text": [
      "Na lewo:  50159\nNa lini:  9\nNa prawo:  49832\n"
     ],
     "output_type": "stream"
    },
    {
     "data": {
      "text/plain": "<Figure size 432x288 with 1 Axes>",
      "image/png": "[encoded data removed]"
     },
     "metadata": {
      "needs_background": "light"
     },
     "output_type": "display_data"
    }
   ],
   "source": [
    "%matplotlib inline\n",
    "\n",
    "classified_points = classify_points(points_2, 0.1)\n",
    "plotX = Plot([classified_points[0],classified_points[2],classified_points[1]])\n",
    "plotX.draw()\n",
    "\n",
    "print(\"Na lewo: \", len(classified_points[0].points))\n",
    "print(\"Na lini: \", len(classified_points[1].points))\n",
    "print(\"Na prawo: \", len(classified_points[2].points))"
   ],
   "metadata": {
    "collapsed": false,
    "pycharm": {
     "name": "#%%\n",
     "is_executing": false
    }
   }
  },
  {
   "cell_type": "markdown",
   "source": [
    "Dla wyznacznika liczonego funkcją z biblioteki numpy:"
   ],
   "metadata": {
    "collapsed": false
   }
  },
  {
   "cell_type": "code",
   "execution_count": 27,
   "outputs": [
    {
     "name": "stdout",
     "text": [
      "Na lewo:  50163\nNa lini:  0\nNa prawo:  49837\n"
     ],
     "output_type": "stream"
    }
   ],
   "source": [
    "classified_points = classify_points(points_2, 0.1,det_evaluator=numpy_det)\n",
    "\n",
    "print(\"Na lewo: \", len(classified_points[0].points))\n",
    "print(\"Na lini: \", len(classified_points[1].points))\n",
    "print(\"Na prawo: \", len(classified_points[2].points))"
   ],
   "metadata": {
    "collapsed": false,
    "pycharm": {
     "name": "#%%\n",
     "is_executing": false
    }
   }
  },
  {
   "cell_type": "markdown",
   "source": [
    "b) macierz 3x3"
   ],
   "metadata": {
    "collapsed": false
   }
  },
  {
   "cell_type": "code",
   "execution_count": 28,
   "outputs": [
    {
     "name": "stdout",
     "text": [
      "Na lewo:  50163\nNa lini:  0\nNa prawo:  49837\n"
     ],
     "output_type": "stream"
    },
    {
     "data": {
      "text/plain": "<Figure size 432x288 with 1 Axes>",
      "image/png": "[encoded data removed]"
     },
     "metadata": {
      "needs_background": "light"
     },
     "output_type": "display_data"
    }
   ],
   "source": [
    "%matplotlib inline\n",
    "\n",
    "classified_points = classify_points(points_2, 0.1,generate_matrix_3x3)\n",
    "plotX = Plot([classified_points[0],classified_points[2],classified_points[1]])\n",
    "plotX.draw()\n",
    "\n",
    "print(\"Na lewo: \", len(classified_points[0].points))\n",
    "print(\"Na lini: \", len(classified_points[1].points))\n",
    "print(\"Na prawo: \", len(classified_points[2].points))"
   ],
   "metadata": {
    "collapsed": false,
    "pycharm": {
     "name": "#%%\n",
     "is_executing": false
    }
   }
  },
  {
   "cell_type": "markdown",
   "source": [
    "Dla wyznacznika liczonego funkcją z biblioteki numpy:"
   ],
   "metadata": {
    "collapsed": false
   }
  },
  {
   "cell_type": "code",
   "execution_count": 29,
   "outputs": [
    {
     "name": "stdout",
     "text": [
      "Na lewo:  50163\nNa lini:  0\nNa prawo:  49837\n"
     ],
     "output_type": "stream"
    }
   ],
   "source": [
    "classified_points = classify_points(points_2, 0.1,generate_matrix_3x3,det_evaluator=numpy_det)\n",
    "\n",
    "print(\"Na lewo: \", len(classified_points[0].points))\n",
    "print(\"Na lini: \", len(classified_points[1].points))\n",
    "print(\"Na prawo: \", len(classified_points[2].points))"
   ],
   "metadata": {
    "collapsed": false,
    "pycharm": {
     "name": "#%%\n",
     "is_executing": false
    }
   }
  },
  {
   "cell_type": "markdown",
   "metadata": {
    "pycharm": {
     "is_executing": false,
     "name": "#%% md\n"
    }
   },
   "source": [
    "2. epsilon = 10^5\n",
    "\n",
    "a) macierz 2x2"
   ]
  },
  {
   "cell_type": "code",
   "execution_count": 30,
   "outputs": [
    {
     "name": "stdout",
     "text": [
      "Na lewo:  50159\nNa lini:  9\nNa prawo:  49832\n"
     ],
     "output_type": "stream"
    },
    {
     "data": {
      "text/plain": "<Figure size 432x288 with 1 Axes>",
      "image/png": "[encoded data removed]"
     },
     "metadata": {
      "needs_background": "light"
     },
     "output_type": "display_data"
    }
   ],
   "source": [
    "%matplotlib inline\n",
    "\n",
    "classified_points = classify_points(points_2, math.pow(10,5))\n",
    "plotX = Plot([classified_points[0],classified_points[2],classified_points[1]])\n",
    "plotX.draw()\n",
    "\n",
    "print(\"Na lewo: \", len(classified_points[0].points))\n",
    "print(\"Na lini: \", len(classified_points[1].points))\n",
    "print(\"Na prawo: \", len(classified_points[2].points))"
   ],
   "metadata": {
    "collapsed": false,
    "pycharm": {
     "name": "#%%\n",
     "is_executing": false
    }
   }
  },
  {
   "cell_type": "markdown",
   "source": [
    "Dla wyznacznika liczonego funkcją z biblioteki numpy:"
   ],
   "metadata": {
    "collapsed": false
   }
  },
  {
   "cell_type": "code",
   "execution_count": 31,
   "outputs": [
    {
     "name": "stdout",
     "text": [
      "Na lewo:  50163\nNa lini:  0\nNa prawo:  49837\n"
     ],
     "output_type": "stream"
    }
   ],
   "source": [
    "classified_points = classify_points(points_2, math.pow(10,5),det_evaluator=numpy_det)\n",
    "\n",
    "print(\"Na lewo: \", len(classified_points[0].points))\n",
    "print(\"Na lini: \", len(classified_points[1].points))\n",
    "print(\"Na prawo: \", len(classified_points[2].points))"
   ],
   "metadata": {
    "collapsed": false,
    "pycharm": {
     "name": "#%%\n",
     "is_executing": false
    }
   }
  },
  {
   "cell_type": "markdown",
   "source": [
    "b) macierz 3x3"
   ],
   "metadata": {
    "collapsed": false
   }
  },
  {
   "cell_type": "code",
   "execution_count": 32,
   "outputs": [
    {
     "name": "stdout",
     "text": [
      "Na lewo:  50163\nNa lini:  0\nNa prawo:  49837\n"
     ],
     "output_type": "stream"
    },
    {
     "data": {
      "text/plain": "<Figure size 432x288 with 1 Axes>",
      "image/png": "[encoded data removed]"
     },
     "metadata": {
      "needs_background": "light"
     },
     "output_type": "display_data"
    }
   ],
   "source": [
    "%matplotlib inline\n",
    "\n",
    "classified_points = classify_points(points_2, math.pow(10,5),generate_matrix_3x3)\n",
    "plotX = Plot([classified_points[0],classified_points[2],classified_points[1]])\n",
    "plotX.draw()\n",
    "\n",
    "print(\"Na lewo: \", len(classified_points[0].points))\n",
    "print(\"Na lini: \", len(classified_points[1].points))\n",
    "print(\"Na prawo: \", len(classified_points[2].points))"
   ],
   "metadata": {
    "collapsed": false,
    "pycharm": {
     "name": "#%%\n",
     "is_executing": false
    }
   }
  },
  {
   "cell_type": "markdown",
   "source": [
    "Dla wyznacznika liczonego funkcją z biblioteki numpy:"
   ],
   "metadata": {
    "collapsed": false
   }
  },
  {
   "cell_type": "code",
   "execution_count": 33,
   "outputs": [
    {
     "name": "stdout",
     "text": [
      "Na lewo:  50163\nNa lini:  0\nNa prawo:  49837\n"
     ],
     "output_type": "stream"
    }
   ],
   "source": [
    "classified_points = classify_points(points_2,math.pow(10,5),generate_matrix_3x3,det_evaluator=numpy_det)\n",
    "\n",
    "print(\"Na lewo: \", len(classified_points[0].points))\n",
    "print(\"Na lini: \", len(classified_points[1].points))\n",
    "print(\"Na prawo: \", len(classified_points[2].points))"
   ],
   "metadata": {
    "collapsed": false,
    "pycharm": {
     "name": "#%%\n",
     "is_executing": false
    }
   }
  },
  {
   "cell_type": "markdown",
   "metadata": {
    "pycharm": {
     "is_executing": false,
     "name": "#%% md\n"
    }
   },
   "source": [
    "3. epsilon = 10^12 \n",
    "\n",
    "a) macierz 2x2"
   ]
  },
  {
   "cell_type": "code",
   "execution_count": 34,
   "outputs": [
    {
     "name": "stdout",
     "text": [
      "Na lewo:  49913\nNa lini:  512\nNa prawo:  49575\n"
     ],
     "output_type": "stream"
    },
    {
     "data": {
      "text/plain": "<Figure size 432x288 with 1 Axes>",
      "image/png": "[encoded data removed]"
     },
     "metadata": {
      "needs_background": "light"
     },
     "output_type": "display_data"
    }
   ],
   "source": [
    "%matplotlib inline\n",
    "\n",
    "classified_points = classify_points(points_2, math.pow(10,12))\n",
    "plotX = Plot([classified_points[0],classified_points[2],classified_points[1]])\n",
    "plotX.draw()\n",
    "\n",
    "print(\"Na lewo: \", len(classified_points[0].points))\n",
    "print(\"Na lini: \", len(classified_points[1].points))\n",
    "print(\"Na prawo: \", len(classified_points[2].points))"
   ],
   "metadata": {
    "collapsed": false,
    "pycharm": {
     "name": "#%%\n",
     "is_executing": false
    }
   }
  },
  {
   "cell_type": "markdown",
   "source": [
    "Dla wyznacznika liczonego funkcją z biblioteki numpy:"
   ],
   "metadata": {
    "collapsed": false
   }
  },
  {
   "cell_type": "code",
   "execution_count": 35,
   "outputs": [
    {
     "name": "stdout",
     "text": [
      "Na lewo:  49914\nNa lini:  510\nNa prawo:  49576\n"
     ],
     "output_type": "stream"
    }
   ],
   "source": [
    "classified_points = classify_points(points_2, math.pow(10,12),det_evaluator=numpy_det)\n",
    "\n",
    "print(\"Na lewo: \", len(classified_points[0].points))\n",
    "print(\"Na lini: \", len(classified_points[1].points))\n",
    "print(\"Na prawo: \", len(classified_points[2].points))"
   ],
   "metadata": {
    "collapsed": false,
    "pycharm": {
     "name": "#%%\n",
     "is_executing": false
    }
   }
  },
  {
   "cell_type": "markdown",
   "source": [
    "b) macierz 3x3"
   ],
   "metadata": {
    "collapsed": false
   }
  },
  {
   "cell_type": "code",
   "execution_count": 36,
   "outputs": [
    {
     "name": "stdout",
     "text": [
      "Na lewo:  49916\nNa lini:  510\nNa prawo:  49574\n"
     ],
     "output_type": "stream"
    },
    {
     "data": {
      "text/plain": "<Figure size 432x288 with 1 Axes>",
      "image/png": "[encoded data removed]"
     },
     "metadata": {
      "needs_background": "light"
     },
     "output_type": "display_data"
    }
   ],
   "source": [
    "%matplotlib inline\n",
    "\n",
    "classified_points = classify_points(points_2, math.pow(10,12),generate_matrix_3x3)\n",
    "plotX = Plot([classified_points[0],classified_points[2],classified_points[1]])\n",
    "plotX.draw()\n",
    "\n",
    "print(\"Na lewo: \", len(classified_points[0].points))\n",
    "print(\"Na lini: \", len(classified_points[1].points))\n",
    "print(\"Na prawo: \", len(classified_points[2].points))"
   ],
   "metadata": {
    "collapsed": false,
    "pycharm": {
     "name": "#%%\n",
     "is_executing": false
    }
   }
  },
  {
   "cell_type": "markdown",
   "source": [
    "Dla wyznacznika liczonego funkcją z biblioteki numpy:"
   ],
   "metadata": {
    "collapsed": false
   }
  },
  {
   "cell_type": "code",
   "execution_count": 37,
   "outputs": [
    {
     "name": "stdout",
     "text": [
      "Na lewo:  49916\nNa lini:  510\nNa prawo:  49574\n"
     ],
     "output_type": "stream"
    }
   ],
   "source": [
    "classified_points = classify_points(points_2,math.pow(10,12),generate_matrix_3x3, det_evaluator=numpy_det)\n",
    "\n",
    "print(\"Na lewo: \", len(classified_points[0].points))\n",
    "print(\"Na lini: \", len(classified_points[1].points))\n",
    "print(\"Na prawo: \", len(classified_points[2].points))"
   ],
   "metadata": {
    "collapsed": false,
    "pycharm": {
     "name": "#%%\n",
     "is_executing": false
    }
   }
  },
  {
   "cell_type": "markdown",
   "source": [
    "#### Wykres dla  zbioru punktow na okregu"
   ],
   "metadata": {
    "collapsed": false
   }
  },
  {
   "cell_type": "markdown",
   "metadata": {
    "pycharm": {
     "is_executing": false,
     "name": "#%% md\n"
    }
   },
   "source": [
    "1. epsilon = 0.1 \n",
    "\n",
    "a) macierz 2x2"
   ]
  },
  {
   "cell_type": "code",
   "execution_count": 38,
   "outputs": [
    {
     "name": "stdout",
     "text": [
      "Na lewo:  501\nNa lini:  1\nNa prawo:  498\n"
     ],
     "output_type": "stream"
    },
    {
     "data": {
      "text/plain": "<Figure size 432x288 with 1 Axes>",
      "image/png": "[encoded data removed]"
     },
     "metadata": {
      "needs_background": "light"
     },
     "output_type": "display_data"
    }
   ],
   "source": [
    "%matplotlib inline\n",
    "\n",
    "classified_points = classify_points(points_3, 0.1)\n",
    "plotX = Plot([classified_points[0],classified_points[2],classified_points[1]])\n",
    "plotX.draw()\n",
    "\n",
    "print(\"Na lewo: \", len(classified_points[0].points))\n",
    "print(\"Na lini: \", len(classified_points[1].points))\n",
    "print(\"Na prawo: \", len(classified_points[2].points))"
   ],
   "metadata": {
    "collapsed": false,
    "pycharm": {
     "name": "#%%\n",
     "is_executing": false
    }
   }
  },
  {
   "cell_type": "markdown",
   "source": [
    "Dla wyznacznika liczonego funkcją z biblioteki numpy:"
   ],
   "metadata": {
    "collapsed": false
   }
  },
  {
   "cell_type": "code",
   "execution_count": 39,
   "outputs": [
    {
     "name": "stdout",
     "text": [
      "Na lewo:  501\nNa lini:  1\nNa prawo:  498\n"
     ],
     "output_type": "stream"
    }
   ],
   "source": [
    "classified_points = classify_points(points_3, 0.1,det_evaluator=numpy_det)\n",
    "\n",
    "print(\"Na lewo: \", len(classified_points[0].points))\n",
    "print(\"Na lini: \", len(classified_points[1].points))\n",
    "print(\"Na prawo: \", len(classified_points[2].points))"
   ],
   "metadata": {
    "collapsed": false,
    "pycharm": {
     "name": "#%%\n",
     "is_executing": false
    }
   }
  },
  {
   "cell_type": "markdown",
   "source": [
    "b) macierz 3x3"
   ],
   "metadata": {
    "collapsed": false
   }
  },
  {
   "cell_type": "code",
   "execution_count": 40,
   "outputs": [
    {
     "name": "stdout",
     "text": [
      "Na lewo:  501\nNa lini:  1\nNa prawo:  498\n"
     ],
     "output_type": "stream"
    },
    {
     "data": {
      "text/plain": "<Figure size 432x288 with 1 Axes>",
      "image/png": "[encoded data removed]"
     },
     "metadata": {
      "needs_background": "light"
     },
     "output_type": "display_data"
    }
   ],
   "source": [
    "%matplotlib inline\n",
    "\n",
    "classified_points = classify_points(points_3, 0.1,generate_matrix_3x3)\n",
    "plotX = Plot([classified_points[0],classified_points[2],classified_points[1]])\n",
    "plotX.draw()\n",
    "\n",
    "print(\"Na lewo: \", len(classified_points[0].points))\n",
    "print(\"Na lini: \", len(classified_points[1].points))\n",
    "print(\"Na prawo: \", len(classified_points[2].points))"
   ],
   "metadata": {
    "collapsed": false,
    "pycharm": {
     "name": "#%%\n",
     "is_executing": false
    }
   }
  },
  {
   "cell_type": "markdown",
   "source": [
    "Dla wyznacznika liczonego funkcją z biblioteki numpy:"
   ],
   "metadata": {
    "collapsed": false
   }
  },
  {
   "cell_type": "code",
   "execution_count": 41,
   "outputs": [
    {
     "name": "stdout",
     "text": [
      "Na lewo:  501\nNa lini:  1\nNa prawo:  498\n"
     ],
     "output_type": "stream"
    }
   ],
   "source": [
    "classified_points = classify_points(points_3,0.1,generate_matrix_3x3,det_evaluator=numpy_det)\n",
    "\n",
    "print(\"Na lewo: \", len(classified_points[0].points))\n",
    "print(\"Na lini: \", len(classified_points[1].points))\n",
    "print(\"Na prawo: \", len(classified_points[2].points))"
   ],
   "metadata": {
    "collapsed": false,
    "pycharm": {
     "name": "#%%\n",
     "is_executing": false
    }
   }
  },
  {
   "cell_type": "markdown",
   "metadata": {
    "pycharm": {
     "is_executing": false,
     "name": "#%% md\n"
    }
   },
   "source": [
    "2. epsilon = 5\n",
    "\n",
    "a) macierz 2x2"
   ]
  },
  {
   "cell_type": "code",
   "execution_count": 42,
   "outputs": [
    {
     "name": "stdout",
     "text": [
      "Na lewo:  495\nNa lini:  12\nNa prawo:  493\n"
     ],
     "output_type": "stream"
    },
    {
     "data": {
      "text/plain": "<Figure size 432x288 with 1 Axes>",
      "image/png": "[encoded data removed]"
     },
     "metadata": {
      "needs_background": "light"
     },
     "output_type": "display_data"
    }
   ],
   "source": [
    "%matplotlib inline\n",
    "\n",
    "classified_points = classify_points(points_3, 5)\n",
    "plotX = Plot([classified_points[0],classified_points[2],classified_points[1]])\n",
    "plotX.draw()\n",
    "\n",
    "print(\"Na lewo: \", len(classified_points[0].points))\n",
    "print(\"Na lini: \", len(classified_points[1].points))\n",
    "print(\"Na prawo: \", len(classified_points[2].points))"
   ],
   "metadata": {
    "collapsed": false,
    "pycharm": {
     "name": "#%%\n",
     "is_executing": false
    }
   }
  },
  {
   "cell_type": "markdown",
   "source": [
    "Dla wyznacznika liczonego funkcją z biblioteki numpy:"
   ],
   "metadata": {
    "collapsed": false
   }
  },
  {
   "cell_type": "code",
   "execution_count": 43,
   "outputs": [
    {
     "name": "stdout",
     "text": [
      "Na lewo:  50163\nNa lini:  0\nNa prawo:  49837\n"
     ],
     "output_type": "stream"
    }
   ],
   "source": [
    "classified_points = classify_points(points_2, 5,det_evaluator=numpy_det)\n",
    "\n",
    "print(\"Na lewo: \", len(classified_points[0].points))\n",
    "print(\"Na lini: \", len(classified_points[1].points))\n",
    "print(\"Na prawo: \", len(classified_points[2].points))"
   ],
   "metadata": {
    "collapsed": false,
    "pycharm": {
     "name": "#%%\n",
     "is_executing": false
    }
   }
  },
  {
   "cell_type": "markdown",
   "source": [
    "b) macierz 3x3"
   ],
   "metadata": {
    "collapsed": false
   }
  },
  {
   "cell_type": "code",
   "execution_count": 44,
   "outputs": [
    {
     "name": "stdout",
     "text": [
      "Na lewo:  495\nNa lini:  12\nNa prawo:  493\n"
     ],
     "output_type": "stream"
    },
    {
     "data": {
      "text/plain": "<Figure size 432x288 with 1 Axes>",
      "image/png": "[encoded data removed]"
     },
     "metadata": {
      "needs_background": "light"
     },
     "output_type": "display_data"
    }
   ],
   "source": [
    "%matplotlib inline\n",
    "\n",
    "classified_points = classify_points(points_3, 5,generate_matrix_3x3)\n",
    "plotX = Plot([classified_points[0],classified_points[2],classified_points[1]])\n",
    "plotX.draw()\n",
    "\n",
    "print(\"Na lewo: \", len(classified_points[0].points))\n",
    "print(\"Na lini: \", len(classified_points[1].points))\n",
    "print(\"Na prawo: \", len(classified_points[2].points))"
   ],
   "metadata": {
    "collapsed": false,
    "pycharm": {
     "name": "#%%\n",
     "is_executing": false
    }
   }
  },
  {
   "cell_type": "markdown",
   "source": [
    "Dla wyznacznika liczonego funkcją z biblioteki numpy:"
   ],
   "metadata": {
    "collapsed": false
   }
  },
  {
   "cell_type": "code",
   "execution_count": 45,
   "outputs": [
    {
     "name": "stdout",
     "text": [
      "Na lewo:  495\nNa lini:  12\nNa prawo:  493\n"
     ],
     "output_type": "stream"
    }
   ],
   "source": [
    "classified_points = classify_points(points_3,5,generate_matrix_3x3, det_evaluator=numpy_det)\n",
    "\n",
    "print(\"Na lewo: \", len(classified_points[0].points))\n",
    "print(\"Na lini: \", len(classified_points[1].points))\n",
    "print(\"Na prawo: \", len(classified_points[2].points))"
   ],
   "metadata": {
    "collapsed": false,
    "pycharm": {
     "name": "#%%\n",
     "is_executing": false
    }
   }
  },
  {
   "cell_type": "markdown",
   "source": [
    "2. epsilon = 10\n",
    "\n",
    "a) macierz 2x2"
   ],
   "metadata": {
    "collapsed": false
   }
  },
  {
   "cell_type": "code",
   "execution_count": 46,
   "outputs": [
    {
     "name": "stdout",
     "text": [
      "Na lewo:  490\nNa lini:  27\nNa prawo:  483\n"
     ],
     "output_type": "stream"
    },
    {
     "data": {
      "text/plain": "<Figure size 432x288 with 1 Axes>",
      "image/png": "[encoded data removed]"
     },
     "metadata": {
      "needs_background": "light"
     },
     "output_type": "display_data"
    }
   ],
   "source": [
    "%matplotlib inline\n",
    "\n",
    "classified_points = classify_points(points_3, 10)\n",
    "plotX = Plot([classified_points[0],classified_points[2],classified_points[1]])\n",
    "plotX.draw()\n",
    "\n",
    "print(\"Na lewo: \", len(classified_points[0].points))\n",
    "print(\"Na lini: \", len(classified_points[1].points))\n",
    "print(\"Na prawo: \", len(classified_points[2].points))"
   ],
   "metadata": {
    "collapsed": false,
    "pycharm": {
     "name": "#%%\n",
     "is_executing": false
    }
   }
  },
  {
   "cell_type": "markdown",
   "source": [
    "Dla wyznacznika liczonego funkcją z biblioteki numpy:"
   ],
   "metadata": {
    "collapsed": false
   }
  },
  {
   "cell_type": "code",
   "execution_count": 47,
   "outputs": [
    {
     "name": "stdout",
     "text": [
      "Na lewo:  490\nNa lini:  27\nNa prawo:  483\n"
     ],
     "output_type": "stream"
    }
   ],
   "source": [
    "classified_points = classify_points(points_3, 10, det_evaluator=numpy_det)\n",
    "\n",
    "print(\"Na lewo: \", len(classified_points[0].points))\n",
    "print(\"Na lini: \", len(classified_points[1].points))\n",
    "print(\"Na prawo: \", len(classified_points[2].points))"
   ],
   "metadata": {
    "collapsed": false,
    "pycharm": {
     "name": "#%%\n",
     "is_executing": false
    }
   }
  },
  {
   "cell_type": "markdown",
   "source": [
    "b) macierz 3x3"
   ],
   "metadata": {
    "collapsed": false
   }
  },
  {
   "cell_type": "code",
   "execution_count": 48,
   "outputs": [
    {
     "name": "stdout",
     "text": [
      "Na lewo:  490\nNa lini:  27\nNa prawo:  483\n"
     ],
     "output_type": "stream"
    },
    {
     "data": {
      "text/plain": "<Figure size 432x288 with 1 Axes>",
      "image/png": "[encoded data removed]"
     },
     "metadata": {
      "needs_background": "light"
     },
     "output_type": "display_data"
    }
   ],
   "source": [
    "%matplotlib inline\n",
    "\n",
    "classified_points = classify_points(points_3, 10,generate_matrix_3x3)\n",
    "plotX = Plot([classified_points[0],classified_points[2],classified_points[1]])\n",
    "plotX.draw()\n",
    "\n",
    "print(\"Na lewo: \", len(classified_points[0].points))\n",
    "print(\"Na lini: \", len(classified_points[1].points))\n",
    "print(\"Na prawo: \", len(classified_points[2].points))"
   ],
   "metadata": {
    "collapsed": false,
    "pycharm": {
     "name": "#%%\n",
     "is_executing": false
    }
   }
  },
  {
   "cell_type": "markdown",
   "source": [
    "Dla wyznacznika liczonego funkcją z biblioteki numpy:"
   ],
   "metadata": {
    "collapsed": false
   }
  },
  {
   "cell_type": "code",
   "execution_count": 49,
   "outputs": [
    {
     "name": "stdout",
     "text": [
      "Na lewo:  490\n",
      "Na lini:  27\nNa prawo:  483\n"
     ],
     "output_type": "stream"
    }
   ],
   "source": [
    "classified_points = classify_points(points_3,10,generate_matrix_3x3, det_evaluator=numpy_det)\n",
    "\n",
    "print(\"Na lewo: \", len(classified_points[0].points))\n",
    "print(\"Na lini: \", len(classified_points[1].points))\n",
    "print(\"Na prawo: \", len(classified_points[2].points))"
   ],
   "metadata": {
    "collapsed": false,
    "pycharm": {
     "name": "#%%\n",
     "is_executing": false
    }
   }
  },
  {
   "cell_type": "markdown",
   "metadata": {},
   "source": [
    "#### Wykres dla  zbioru punktow na prostej"
   ]
  },
  {
   "cell_type": "markdown",
   "metadata": {
    "pycharm": {
     "is_executing": false,
     "name": "#%% md\n"
    }
   },
   "source": [
    "1. epsilon = 10^(-5)\n",
    "\n",
    "a) macierz 2x2"
   ]
  },
  {
   "cell_type": "code",
   "execution_count": 50,
   "metadata": {
    "pycharm": {
     "is_executing": false
    }
   },
   "outputs": [
    {
     "name": "stdout",
     "text": [
      "Na lewo:  0\nNa lini:  1000\nNa prawo:  0\n"
     ],
     "output_type": "stream"
    },
    {
     "data": {
      "text/plain": "<Figure size 432x288 with 1 Axes>",
      "image/png": "[encoded data removed]"
     },
     "metadata": {
      "needs_background": "light"
     },
     "output_type": "display_data"
    }
   ],
   "source": [
    "%matplotlib inline\n",
    "\n",
    "classified_points = classify_points(points_4, 0.00001)\n",
    "plotX = Plot([classified_points[0],classified_points[2],classified_points[1]])\n",
    "plotX.draw()\n",
    "\n",
    "print(\"Na lewo: \", len(classified_points[0].points))\n",
    "print(\"Na lini: \", len(classified_points[1].points))\n",
    "print(\"Na prawo: \", len(classified_points[2].points))"
   ]
  },
  {
   "cell_type": "markdown",
   "source": [
    "Dla wyznacznika liczonego funkcją z biblioteki numpy:"
   ],
   "metadata": {
    "collapsed": false
   }
  },
  {
   "cell_type": "code",
   "execution_count": 51,
   "outputs": [
    {
     "name": "stdout",
     "text": [
      "Na lewo:  0\nNa lini:  1000\nNa prawo:  0\n"
     ],
     "output_type": "stream"
    }
   ],
   "source": [
    "classified_points = classify_points(points_4,0.00001, det_evaluator=numpy_det)\n",
    "\n",
    "print(\"Na lewo: \", len(classified_points[0].points))\n",
    "print(\"Na lini: \", len(classified_points[1].points))\n",
    "print(\"Na prawo: \", len(classified_points[2].points))"
   ],
   "metadata": {
    "collapsed": false,
    "pycharm": {
     "name": "#%%\n",
     "is_executing": false
    }
   }
  },
  {
   "cell_type": "markdown",
   "source": [
    "b) macierz 3x3"
   ],
   "metadata": {
    "collapsed": false
   }
  },
  {
   "cell_type": "code",
   "execution_count": 52,
   "outputs": [
    {
     "name": "stdout",
     "text": [
      "Na lewo:  0\nNa lini:  1000\nNa prawo:  0\n"
     ],
     "output_type": "stream"
    },
    {
     "data": {
      "text/plain": "<Figure size 432x288 with 1 Axes>",
      "image/png": "[encoded data removed]"
     },
     "metadata": {
      "needs_background": "light"
     },
     "output_type": "display_data"
    }
   ],
   "source": [
    "%matplotlib inline\n",
    "\n",
    "classified_points = classify_points(points_4, 0.00001,generate_matrix_3x3)\n",
    "plotX = Plot([classified_points[0],classified_points[2],classified_points[1]])\n",
    "plotX.draw()\n",
    "\n",
    "print(\"Na lewo: \", len(classified_points[0].points))\n",
    "print(\"Na lini: \", len(classified_points[1].points))\n",
    "print(\"Na prawo: \", len(classified_points[2].points))"
   ],
   "metadata": {
    "collapsed": false,
    "pycharm": {
     "name": "#%%\n",
     "is_executing": false
    }
   }
  },
  {
   "cell_type": "markdown",
   "source": [
    "Dla wyznacznika liczonego funkcją z biblioteki numpy:"
   ],
   "metadata": {
    "collapsed": false
   }
  },
  {
   "cell_type": "code",
   "execution_count": 53,
   "outputs": [
    {
     "name": "stdout",
     "text": [
      "Na lewo:  0\nNa lini:  1000\nNa prawo:  0\n"
     ],
     "output_type": "stream"
    }
   ],
   "source": [
    "classified_points = classify_points(points_4,0.00001,generate_matrix_3x3, det_evaluator=numpy_det)\n",
    "\n",
    "print(\"Na lewo: \", len(classified_points[0].points))\n",
    "print(\"Na lini: \", len(classified_points[1].points))\n",
    "print(\"Na prawo: \", len(classified_points[2].points))"
   ],
   "metadata": {
    "collapsed": false,
    "pycharm": {
     "name": "#%%\n",
     "is_executing": false
    }
   }
  },
  {
   "cell_type": "markdown",
   "source": [
    "2. epsilon = 10^(-12)\n",
    "\n",
    "a) macierz 2x2"
   ],
   "metadata": {
    "collapsed": false
   }
  },
  {
   "cell_type": "code",
   "execution_count": 54,
   "outputs": [
    {
     "name": "stdout",
     "text": [
      "Na lewo:  82\nNa lini:  842\nNa prawo:  76\n"
     ],
     "output_type": "stream"
    },
    {
     "data": {
      "text/plain": "<Figure size 432x288 with 1 Axes>",
      "image/png": "[encoded data removed]"
     },
     "metadata": {
      "needs_background": "light"
     },
     "output_type": "display_data"
    }
   ],
   "source": [
    "%matplotlib inline\n",
    "\n",
    "classified_points = classify_points(points_4, 0.000000000001)\n",
    "plotX = Plot([classified_points[0],classified_points[1],classified_points[2]])\n",
    "plotX.draw()\n",
    "\n",
    "print(\"Na lewo: \", len(classified_points[0].points))\n",
    "print(\"Na lini: \", len(classified_points[1].points))\n",
    "print(\"Na prawo: \", len(classified_points[2].points))"
   ],
   "metadata": {
    "collapsed": false,
    "pycharm": {
     "name": "#%%\n",
     "is_executing": false
    }
   }
  },
  {
   "cell_type": "markdown",
   "source": [
    "Dla wyznacznika liczonego funkcją z biblioteki numpy:"
   ],
   "metadata": {
    "collapsed": false
   }
  },
  {
   "cell_type": "code",
   "execution_count": 55,
   "outputs": [
    {
     "name": "stdout",
     "text": [
      "Na lewo:  134\nNa lini:  727\nNa prawo:  139\n"
     ],
     "output_type": "stream"
    }
   ],
   "source": [
    "classified_points = classify_points(points_4,0.000000000001, det_evaluator=numpy_det)\n",
    "\n",
    "print(\"Na lewo: \", len(classified_points[0].points))\n",
    "print(\"Na lini: \", len(classified_points[1].points))\n",
    "print(\"Na prawo: \", len(classified_points[2].points))"
   ],
   "metadata": {
    "collapsed": false,
    "pycharm": {
     "name": "#%%\n",
     "is_executing": false
    }
   }
  },
  {
   "cell_type": "markdown",
   "source": [
    "b) macierz 3x3"
   ],
   "metadata": {
    "collapsed": false
   }
  },
  {
   "cell_type": "code",
   "execution_count": 56,
   "outputs": [
    {
     "name": "stdout",
     "text": [
      "Na lewo: ",
      " 0\nNa lini:  1000\nNa prawo:  0\n"
     ],
     "output_type": "stream"
    },
    {
     "data": {
      "text/plain": "<Figure size 432x288 with 1 Axes>",
      "image/png": "[encoded data removed]"
     },
     "metadata": {
      "needs_background": "light"
     },
     "output_type": "display_data"
    }
   ],
   "source": [
    "%matplotlib inline\n",
    "\n",
    "classified_points = classify_points(points_4, 0.000000000001,generate_matrix_3x3)\n",
    "plotX = Plot([classified_points[0],classified_points[1],classified_points[2]])\n",
    "plotX.draw()\n",
    "\n",
    "print(\"Na lewo: \", len(classified_points[0].points))\n",
    "print(\"Na lini: \", len(classified_points[1].points))\n",
    "print(\"Na prawo: \", len(classified_points[2].points))"
   ],
   "metadata": {
    "collapsed": false,
    "pycharm": {
     "name": "#%%\n",
     "is_executing": false
    }
   }
  },
  {
   "cell_type": "markdown",
   "source": [
    "Dla wyznacznika liczonego funkcją z biblioteki numpy:"
   ],
   "metadata": {
    "collapsed": false
   }
  },
  {
   "cell_type": "code",
   "execution_count": 57,
   "outputs": [
    {
     "name": "stdout",
     "text": [
      "Na lewo:  0\nNa lini:  1000\nNa prawo:  0\n"
     ],
     "output_type": "stream"
    }
   ],
   "source": [
    "classified_points = classify_points(points_4,0.000000000001,generate_matrix_3x3, det_evaluator=numpy_det)\n",
    "\n",
    "print(\"Na lewo: \", len(classified_points[0].points))\n",
    "print(\"Na lini: \", len(classified_points[1].points))\n",
    "print(\"Na prawo: \", len(classified_points[2].points))"
   ],
   "metadata": {
    "collapsed": false,
    "pycharm": {
     "name": "#%%\n",
     "is_executing": false
    }
   }
  },
  {
   "cell_type": "markdown",
   "source": [
    "2. epsilon = 10^(-15)\n",
    "\n",
    "a) macierz 2x2"
   ],
   "metadata": {
    "collapsed": false
   }
  },
  {
   "cell_type": "code",
   "execution_count": 58,
   "outputs": [
    {
     "name": "stdout",
     "text": [
      "Na lewo:  162\nNa lini:  712\nNa prawo:  126\n"
     ],
     "output_type": "stream"
    },
    {
     "data": {
      "text/plain": "<Figure size 432x288 with 1 Axes>",
      "image/png": "[encoded data removed]"
     },
     "metadata": {
      "needs_background": "light"
     },
     "output_type": "display_data"
    }
   ],
   "source": [
    "%matplotlib inline\n",
    "\n",
    "classified_points = classify_points(points_4, 0.000000000000001)\n",
    "plotX = Plot([classified_points[0],classified_points[1],classified_points[2]])\n",
    "plotX.draw()\n",
    "\n",
    "print(\"Na lewo: \", len(classified_points[0].points))\n",
    "print(\"Na lini: \", len(classified_points[1].points))\n",
    "print(\"Na prawo: \", len(classified_points[2].points))"
   ],
   "metadata": {
    "collapsed": false,
    "pycharm": {
     "name": "#%%\n",
     "is_executing": false
    }
   }
  },
  {
   "cell_type": "markdown",
   "source": [
    "Dla wyznacznika liczonego funkcją z biblioteki numpy:"
   ],
   "metadata": {
    "collapsed": false
   }
  },
  {
   "cell_type": "code",
   "execution_count": 59,
   "outputs": [
    {
     "name": "stdout",
     "text": [
      "Na lewo:  496\nNa lini:  28\nNa prawo:  476\n"
     ],
     "output_type": "stream"
    }
   ],
   "source": [
    "classified_points = classify_points(points_4,0.000000000000001, det_evaluator=numpy_det)\n",
    "\n",
    "print(\"Na lewo: \", len(classified_points[0].points))\n",
    "print(\"Na lini: \", len(classified_points[1].points))\n",
    "print(\"Na prawo: \", len(classified_points[2].points))"
   ],
   "metadata": {
    "collapsed": false,
    "pycharm": {
     "name": "#%%\n",
     "is_executing": false
    }
   }
  },
  {
   "cell_type": "markdown",
   "source": [
    "b) macierz 3x3"
   ],
   "metadata": {
    "collapsed": false
   }
  },
  {
   "cell_type": "code",
   "execution_count": 60,
   "outputs": [
    {
     "name": "stdout",
     "text": [
      "Na lewo:  176\nNa lini:  454\nNa prawo:  370\n"
     ],
     "output_type": "stream"
    },
    {
     "data": {
      "text/plain": "<Figure size 432x288 with 1 Axes>",
      "image/png": "[encoded data removed]"
     },
     "metadata": {
      "needs_background": "light"
     },
     "output_type": "display_data"
    }
   ],
   "source": [
    "%matplotlib inline\n",
    "\n",
    "classified_points = classify_points(points_4, 0.000000000000001,generate_matrix_3x3)\n",
    "plotX = Plot([classified_points[0],classified_points[1],classified_points[2]])\n",
    "plotX.draw()\n",
    "\n",
    "print(\"Na lewo: \", len(classified_points[0].points))\n",
    "print(\"Na lini: \", len(classified_points[1].points))\n",
    "print(\"Na prawo: \", len(classified_points[2].points))"
   ],
   "metadata": {
    "collapsed": false,
    "pycharm": {
     "name": "#%%\n",
     "is_executing": false
    }
   }
  },
  {
   "cell_type": "markdown",
   "source": [
    "Dla wyznacznika liczonego funkcją z biblioteki numpy:"
   ],
   "metadata": {
    "collapsed": false
   }
  },
  {
   "cell_type": "code",
   "execution_count": 61,
   "outputs": [
    {
     "name": "stdout",
     "text": [
      "Na lewo:  363\nNa lini:  240\nNa prawo:  397\n"
     ],
     "output_type": "stream"
    }
   ],
   "source": [
    "classified_points = classify_points(points_4,0.000000000000001,generate_matrix_3x3, det_evaluator=numpy_det)\n",
    "\n",
    "print(\"Na lewo: \", len(classified_points[0].points))\n",
    "print(\"Na lini: \", len(classified_points[1].points))\n",
    "print(\"Na prawo: \", len(classified_points[2].points))"
   ],
   "metadata": {
    "collapsed": false,
    "pycharm": {
     "name": "#%%\n",
     "is_executing": false
    }
   }
  }
 ],
 "metadata": {
  "kernelspec": {
   "display_name": "Python 3",
   "language": "python",
   "name": "python3"
  },
  "language_info": {
   "codemirror_mode": {
    "name": "ipython",
    "version": 3
   },
   "file_extension": ".py",
   "mimetype": "text/x-python",
   "name": "python",
   "nbconvert_exporter": "python",
   "pygments_lexer": "ipython3",
   "version": "3.7.4"
  },
  "pycharm": {
   "stem_cell": {
    "cell_type": "raw",
    "source": [],
    "metadata": {
     "collapsed": false
    }
   }
  }
 },
 "nbformat": 4,
 "nbformat_minor": 4
}