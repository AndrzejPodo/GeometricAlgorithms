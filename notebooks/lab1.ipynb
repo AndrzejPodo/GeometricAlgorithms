{
 "cells": [
  {
   "cell_type": "markdown",
   "metadata": {},
   "source": [
    "# Laboratorium 1\n"
   ]
  },
  {
   "cell_type": "markdown",
   "metadata": {},
   "source": [
    "### Konfiguracja"
   ]
  },
  {
   "cell_type": "code",
   "execution_count": 35,
   "metadata": {
    "pycharm": {
     "is_executing": false
    }
   },
   "outputs": [],
   "source": [
    "import numpy as np\n",
    "import matplotlib.pyplot as plt\n",
    "import matplotlib.collections as mcoll\n",
    "import matplotlib.colors as mcolors\n",
    "import json as js\n",
    "import math\n",
    "import random\n",
    "from scipy.stats import linregress\n",
    "\n",
    "\n",
    "TEN_TO_FIVE = int(math.pow(10, 5))\n",
    "TEN_TO_FOURTEEN = int(math.pow(10, 14))"
   ]
  },
  {
   "cell_type": "markdown",
   "metadata": {},
   "source": [
    "### Interfejsy\n",
    "\n",
    "[Dostępne kolory](https://matplotlib.org/3.1.1/gallery/color/named_colors.html)\n",
    "\n",
    "[Dostępne znaczniki punktów](https://matplotlib.org/3.1.1/api/markers_api.html#module-matplotlib.markers)"
   ]
  },
  {
   "cell_type": "code",
   "execution_count": 36,
   "metadata": {
    "pycharm": {
     "is_executing": false
    }
   },
   "outputs": [],
   "source": [
    "class PointsCollection:\n",
    "    def __init__(self, points = [], color = None, marker = None):\n",
    "        self.points = np.array(points)\n",
    "        self.color = color\n",
    "        self.marker = marker\n",
    "        \n",
    "class LinesCollection:\n",
    "    def __init__(self, lines = [], color = None):\n",
    "        self.color = color\n",
    "        self.lines = lines\n",
    "        \n",
    "    def add(self, line):\n",
    "        self.lines.append(line)\n",
    "        \n",
    "    def get_collection(self):\n",
    "        if self.color:\n",
    "            return mcoll.LineCollection(self.lines, [mcolors.to_rgba(self.color)] * len(self.lines))\n",
    "        else:\n",
    "            return mcoll.LineCollection(self.lines)\n",
    "\n",
    "class Plot:\n",
    "    def __init__(self, points=[], lines=[], json = None):\n",
    "        if json is None:\n",
    "            self.points = points\n",
    "            self.lines = lines\n",
    "        else:\n",
    "            self.points = [PointsCollection(pointsCol) for pointsCol in js.loads(json)[\"points\"]]\n",
    "            self.lines = [LinesCollection(linesCol) for linesCol in js.loads(json)[\"lines\"]]\n",
    "            \n",
    "    def draw(self):\n",
    "        plt.close()\n",
    "        ax = plt.axes()\n",
    "        for collection in self.points:\n",
    "            if collection.points.size > 0:\n",
    "                ax.scatter(*zip(*collection.points), c=collection.color, marker=collection.marker)\n",
    "        for collection in self.lines:\n",
    "            ax.add_collection(collection.get_collection())\n",
    "        ax.autoscale()\n",
    "        plt.draw()\n",
    "        \n",
    "    def toJSON(self):\n",
    "        return js.dumps({\"points\": [pointCol.points.tolist() for pointCol in self.points], \n",
    "                          \"lines\":[linesCol.lines for linesCol in self.lines]})"
   ]
  },
  {
   "cell_type": "markdown",
   "metadata": {},
   "source": [
    "### Przykład użycia"
   ]
  },
  {
   "cell_type": "code",
   "execution_count": 37,
   "metadata": {
    "pycharm": {
     "is_executing": false
    }
   },
   "outputs": [
    {
     "data": {
      "text/plain": "<Figure size 432x288 with 1 Axes>",
      "image/png": "[encoded data removed]"
     },
     "metadata": {
      "needs_background": "light"
     },
     "output_type": "display_data"
    }
   ],
   "source": [
    "%matplotlib inline\n",
    "\n",
    "plot = Plot([PointsCollection([(1, 2), (3, 1.5), (2, -1)]), \n",
    "             PointsCollection([(5, -2), (2, 2), (-2, -1)], color = 'green', marker = \"^\")], \n",
    "            [LinesCollection([[(-1,2),(-2,3)]])])\n",
    "plot.draw()\n"
   ]
  },
  {
   "cell_type": "markdown",
   "metadata": {},
   "source": [
    "### Rozwiązanie"
   ]
  },
  {
   "cell_type": "markdown",
   "metadata": {},
   "source": [
    "#### Funkcje słóżące do generowania list losowych punktów\n",
    "Funkcja losująca punkty została zaprojektowana w taki sposób, aby generator punktu losowego można było przekazać jako arguemnt. Pozwala to na implementację różnych generatorów punktu spełniających odpowiednia kowencję tj. przyjmujących dwa argumenty typu krotka na wejście. Zaimplementowałem następujące generatory punktu:\n",
    "1. generator punktu losowego, jako argumenty podajemy zakres współżędnej x oraz zakres współżędnej y\n",
    "2. generator punktu losowego na okręgu, jako argument podajemy zakres kąta(na jakim wycinku koła chcemy losowapunktu),    oraz zakres promienia w jakim maja być punkty od punktu (0,0)\n",
    "3. generator punktu losowego na lini, jako argument podajmey krotkę skądająca się z współczynnika kierunkowego prostej oraz jej przesunięcia, oraz krotkę wyrażającą zakres w jakim maja znaleźć się obie współżędne losowanego punktu."
   ]
  },
  {
   "cell_type": "code",
   "execution_count": 38,
   "metadata": {
    "pycharm": {
     "is_executing": false
    }
   },
   "outputs": [],
   "source": [
    "def generate_random_point(range_a, range_b):\n",
    "    return random.uniform(range_a[0], range_a[1]),random.uniform(range_b[0], range_b[1])\n",
    "\n",
    "def generate_point_on_circle(angle_range, radius_range):\n",
    "    angle = random.uniform(angle_range[0], angle_range[1])\n",
    "    radius = random.uniform(radius_range[0], radius_range[1])\n",
    "    return math.cos(angle)*radius, math.sin(angle)*radius\n",
    "\n",
    "def generate_point_on_line(slope_intercept, range_x_y):\n",
    "    slope = slope_intercept[0]\n",
    "    intercept = slope_intercept[1]\n",
    "    A = range_x_y[0]\n",
    "    B = range_x_y[1]\n",
    "    if slope < 0:\n",
    "        new_A = (B-intercept)/slope\n",
    "        new_B = (A-intercept)/slope\n",
    "    if slope > 0:\n",
    "        new_A = (A-intercept)/slope\n",
    "        new_B = (B-intercept)/slope\n",
    "    \n",
    "    if new_A > A:\n",
    "        A = new_A\n",
    "    if new_B < B:\n",
    "        B = new_B\n",
    "    x = random.uniform(A, B)\n",
    "    return x, slope*x+intercept\n",
    "\n",
    "def generate_array_of_random_points(n, range_x, range_y=None, generator=generate_random_point):\n",
    "    points = []\n",
    "    if range_y is None:\n",
    "        range_y = range_x\n",
    "    for i in range(0, n):\n",
    "        points.append(generator(range_x, range_y))\n",
    "    return points\n"
   ]
  },
  {
   "cell_type": "markdown",
   "metadata": {},
   "source": [
    "#### a) 10^5 losowych punktów o współrzędnych z przedziału [-1000, 1000]"
   ]
  },
  {
   "cell_type": "code",
   "execution_count": 39,
   "metadata": {
    "pycharm": {
     "is_executing": false
    }
   },
   "outputs": [
    {
     "data": {
      "text/plain": "<Figure size 432x288 with 1 Axes>",
      "image/png": "[encoded data removed]"
     },
     "metadata": {
      "needs_background": "light"
     },
     "output_type": "display_data"
    }
   ],
   "source": [
    "%matplotlib inline\n",
    "\n",
    "points_1 = generate_array_of_random_points(TEN_TO_FIVE,(-1000,1000))\n",
    "plot1 = Plot([PointsCollection(points_1, color=\"green\")])\n",
    "plot1.draw()"
   ]
  },
  {
   "cell_type": "markdown",
   "metadata": {},
   "source": [
    "#### b) 10^5 losowych punktów o współrzędnych z przedziału [-10^14, 10^14], "
   ]
  },
  {
   "cell_type": "code",
   "execution_count": 40,
   "metadata": {
    "pycharm": {
     "is_executing": false
    }
   },
   "outputs": [
    {
     "data": {
      "text/plain": "<Figure size 432x288 with 1 Axes>",
      "image/png": "[encoded data removed]"
     },
     "metadata": {
      "needs_background": "light"
     },
     "output_type": "display_data"
    }
   ],
   "source": [
    "points_2 = generate_array_of_random_points(TEN_TO_FIVE,((-1)*TEN_TO_FOURTEEN,TEN_TO_FOURTEEN))\n",
    "plot2 = Plot([PointsCollection(points_2, color=\"blue\")])\n",
    "plot2.draw()"
   ]
  },
  {
   "cell_type": "markdown",
   "metadata": {
    "pycharm": {
     "is_executing": false
    }
   },
   "source": [
    "#### c) 1000 losowych punktów leżących na okręgu o środku (0,0) i promieniu R=100, "
   ]
  },
  {
   "cell_type": "code",
   "execution_count": 41,
   "metadata": {
    "pycharm": {
     "is_executing": false
    }
   },
   "outputs": [
    {
     "data": {
      "text/plain": "<Figure size 432x288 with 1 Axes>",
      "image/png": "[encoded data removed]"
     },
     "metadata": {
      "needs_background": "light"
     },
     "output_type": "display_data"
    }
   ],
   "source": [
    "%matplotlib inline\n",
    "\n",
    "points_3 = generate_array_of_random_points(1000,(0,2*math.pi),(100,100), generate_point_on_circle)\n",
    "plot3 = Plot([PointsCollection(points_3, color=\"red\")])\n",
    "plot3.draw()"
   ]
  },
  {
   "cell_type": "markdown",
   "metadata": {},
   "source": [
    "#### d) 1000 losowych punktów o współrzędnych z przedziału [-1000, 1000] leżących na prostej wyznaczonej przez wektor (a, b), przyjmij a = [-1.0, 0.0], b = [1.0, 0.1]"
   ]
  },
  {
   "cell_type": "code",
   "execution_count": 42,
   "metadata": {
    "pycharm": {
     "is_executing": false
    }
   },
   "outputs": [
    {
     "data": {
      "text/plain": "<Figure size 432x288 with 1 Axes>",
      "image/png": "[encoded data removed]"
     },
     "metadata": {
      "needs_background": "light"
     },
     "output_type": "display_data"
    }
   ],
   "source": [
    "%matplotlib inline\n",
    "\n",
    "slope, intercept, r_value, p_value, std_err = linregress([-1,1],[0,0.1])\n",
    "points_4 = generate_array_of_random_points(1000,(slope,intercept),(-1000,1000), generate_point_on_line)\n",
    "plot4 = Plot([PointsCollection(points_4, color=\"red\")])\n",
    "plot4.draw()"
   ]
  },
  {
   "cell_type": "markdown",
   "metadata": {},
   "source": [
    "### Klasyfikacja punktów względem prostej opartej na punktach A, B"
   ]
  },
  {
   "cell_type": "markdown",
   "metadata": {},
   "source": [
    "#### Funkcje wyliczające wyznaczniki i klasyfikator punktów"
   ]
  },
  {
   "cell_type": "code",
   "execution_count": 43,
   "metadata": {
    "pycharm": {
     "is_executing": false
    }
   },
   "outputs": [],
   "source": [
    "# [(ax,ay),(bx,by)] = array\n",
    "def det_ev(array):\n",
    "    if len(array) == 2:\n",
    "        return array[0][0]*array[1][1]-array[1][0]*array[0][1]\n",
    "    if len(array) == 3:\n",
    "        return (array[0][0]*array[1][1] + array[1][0]*array[2][1] + array[2][0]*array[0][1])-(array[2][0]*array[1][1] + array[0][0]*array[2][1] + array[1][0]*array[0][1])\n",
    "\n",
    "def numpy_det(array):\n",
    "    return np.linalg.det(np.array(array))\n",
    "\n",
    "def generate_matrix_3x3(point, point_a, point_b):\n",
    "    matrix = [[point_a[0], point_a[1],1], [point_b[0], point_b[1],1], [point[0], point[1],1]]\n",
    "    return matrix\n",
    "def generate_matrix_2x2(point, point_a, point_b):\n",
    "    matrix = [[point_a[0]-point[0], point_a[1]-point[1]], [point_b[0]-point[0], point_b[1]-point[1]]]\n",
    "    return matrix\n",
    "\n",
    "def classify_point(point, point_a, point_b, epsilon, matrix_generator, det):\n",
    "    determinant = det(matrix_generator(point, point_a, point_b))\n",
    "    if abs(determinant) > epsilon:\n",
    "        if determinant < 0:\n",
    "            return -1\n",
    "        else:\n",
    "            return 1\n",
    "    if abs(determinant) < epsilon:\n",
    "        return 0\n",
    "    \n",
    "    \n",
    "def classify_points(points,epsilon, matrix_generator = generate_matrix_2x2, det_evaluator = det_ev, point_a = (-1.0, 0.0), point_b = (1.0, 0.1), color_over='green', color_under='blue', color_on_line=\"red\"):\n",
    "    points_over = []\n",
    "    points_on_line = []\n",
    "    points_under = []\n",
    "    for point in points:\n",
    "        point_class = classify_point(point, point_a, point_b, epsilon, matrix_generator, det_evaluator)\n",
    "        if point_class > 0:\n",
    "            points_over.append(point)\n",
    "        if point_class < 0:\n",
    "            points_under.append(point)\n",
    "        if point_class == 0:\n",
    "            points_on_line.append(point)\n",
    "    \n",
    "    return PointsCollection(points_over, color=color_over),PointsCollection(points_on_line, color=color_on_line),PointsCollection(points_under, color=color_under)"
   ]
  },
  {
   "cell_type": "markdown",
   "metadata": {},
   "source": [
    "#### Wykresy dla pierwszego zbioru punktow:\n",
    " \n",
    "1. epsilon = 0.01\n",
    "  "
   ]
  },
  {
   "cell_type": "markdown",
   "source": [
    "a) macierz 2x2\n",
    "\n",
    "Dla wyznacznika liczonego ze wzoru:"
   ],
   "metadata": {
    "collapsed": false,
    "pycharm": {
     "name": "#%% md\n"
    }
   }
  },
  {
   "cell_type": "code",
   "execution_count": 44,
   "metadata": {
    "pycharm": {
     "is_executing": false
    }
   },
   "outputs": [
    {
     "name": "stdout",
     "text": [
      "Pod linią:  50047\nNa lini:  0\nNad linią:  49953\n"
     ],
     "output_type": "stream"
    },
    {
     "data": {
      "text/plain": "<Figure size 432x288 with 1 Axes>",
      "image/png": "[encoded data removed]"
     },
     "metadata": {
      "needs_background": "light"
     },
     "output_type": "display_data"
    }
   ],
   "source": [
    "%matplotlib inline\n",
    "\n",
    "classified_points = classify_points(points_1, 0.01)\n",
    "plotX = Plot([classified_points[0],classified_points[2],classified_points[1]])\n",
    "plotX.draw()\n",
    "\n",
    "print(\"Pod linią: \", len(classified_points[0].points))\n",
    "print(\"Na lini: \", len(classified_points[1].points))\n",
    "print(\"Nad linią: \", len(classified_points[2].points))"
   ]
  },
  {
   "cell_type": "markdown",
   "source": [
    "Dla wyznacznika liczonego funkcją z biblioteki numpy:"
   ],
   "metadata": {
    "collapsed": false,
    "pycharm": {
     "name": "#%% md\n"
    }
   }
  },
  {
   "cell_type": "code",
   "execution_count": 45,
   "outputs": [
    {
     "name": "stdout",
     "text": [
      "Pod linią:  50047\nNa lini:  0\nNad linią:  49953\n"
     ],
     "output_type": "stream"
    }
   ],
   "source": [
    "classified_points = classify_points(points_1, 0.01,det_evaluator=numpy_det)\n",
    "\n",
    "print(\"Pod linią: \", len(classified_points[0].points))\n",
    "print(\"Na lini: \", len(classified_points[1].points))\n",
    "print(\"Nad linią: \", len(classified_points[2].points))"
   ],
   "metadata": {
    "collapsed": false,
    "pycharm": {
     "name": "#%%\n",
     "is_executing": false
    }
   }
  },
  {
   "cell_type": "markdown",
   "source": [
    "a) macierz 3x3"
   ],
   "metadata": {
    "collapsed": false
   }
  },
  {
   "cell_type": "code",
   "execution_count": 46,
   "outputs": [
    {
     "name": "stdout",
     "text": [
      "Pod linią:  50047\nNa lini:  0\nNad linią:  49953\n"
     ],
     "output_type": "stream"
    },
    {
     "data": {
      "text/plain": "<Figure size 432x288 with 1 Axes>",
      "image/png": "[encoded data removed]"
     },
     "metadata": {
      "needs_background": "light"
     },
     "output_type": "display_data"
    }
   ],
   "source": [
    "%matplotlib inline\n",
    "\n",
    "classified_points = classify_points(points_1, 0.01, generate_matrix_3x3)\n",
    "plotX = Plot([classified_points[0],classified_points[2],classified_points[1]])\n",
    "plotX.draw()\n",
    "\n",
    "print(\"Pod linią: \", len(classified_points[0].points))\n",
    "print(\"Na lini: \", len(classified_points[1].points))\n",
    "print(\"Nad linią: \", len(classified_points[2].points))"
   ],
   "metadata": {
    "collapsed": false,
    "pycharm": {
     "name": "#%%\n",
     "is_executing": false
    }
   }
  },
  {
   "cell_type": "markdown",
   "source": [
    "Dla wyznacznika liczonego funkcją z biblioteki numpy:"
   ],
   "metadata": {
    "collapsed": false
   }
  },
  {
   "cell_type": "code",
   "execution_count": 47,
   "outputs": [
    {
     "name": "stdout",
     "text": [
      "Pod linią:  50047\nNa lini:  0\nNad linią:  49953\n"
     ],
     "output_type": "stream"
    }
   ],
   "source": [
    "classified_points = classify_points(points_1, 0.01,generate_matrix_3x3,det_evaluator=numpy_det)\n",
    "\n",
    "print(\"Pod linią: \", len(classified_points[0].points))\n",
    "print(\"Na lini: \", len(classified_points[1].points))\n",
    "print(\"Nad linią: \", len(classified_points[2].points))"
   ],
   "metadata": {
    "collapsed": false,
    "pycharm": {
     "name": "#%%\n",
     "is_executing": false
    }
   }
  },
  {
   "cell_type": "markdown",
   "source": [
    "2. epsilon = 0.1 \n",
    "\n",
    "a) macierz 2x2"
   ],
   "metadata": {
    "collapsed": false
   }
  },
  {
   "cell_type": "code",
   "execution_count": 48,
   "outputs": [
    {
     "name": "stdout",
     "text": [
      "Pod linią:  50046\nNa lini:  2\nNad linią:  49952\n"
     ],
     "output_type": "stream"
    },
    {
     "data": {
      "text/plain": "<Figure size 432x288 with 1 Axes>",
      "image/png": "[encoded data removed]"
     },
     "metadata": {
      "needs_background": "light"
     },
     "output_type": "display_data"
    }
   ],
   "source": [
    "%matplotlib inline\n",
    "\n",
    "classified_points = classify_points(points_1, 0.1)\n",
    "plotX = Plot([classified_points[0],classified_points[2],classified_points[1]])\n",
    "plotX.draw()\n",
    "\n",
    "print(\"Pod linią: \", len(classified_points[0].points))\n",
    "print(\"Na lini: \", len(classified_points[1].points))\n",
    "print(\"Nad linią: \", len(classified_points[2].points))"
   ],
   "metadata": {
    "collapsed": false,
    "pycharm": {
     "name": "#%%\n",
     "is_executing": false
    }
   }
  },
  {
   "cell_type": "markdown",
   "source": [
    "Dla wyznacznika liczonego funkcją z biblioteki numpy:"
   ],
   "metadata": {
    "collapsed": false
   }
  },
  {
   "cell_type": "code",
   "execution_count": 49,
   "outputs": [
    {
     "name": "stdout",
     "text": [
      "Pod linią:  50046\nNa lini:  2\nNad linią:  49952\n"
     ],
     "output_type": "stream"
    }
   ],
   "source": [
    "classified_points = classify_points(points_1, 0.1,det_evaluator=numpy_det)\n",
    "\n",
    "print(\"Pod linią: \", len(classified_points[0].points))\n",
    "print(\"Na lini: \", len(classified_points[1].points))\n",
    "print(\"Nad linią: \", len(classified_points[2].points))"
   ],
   "metadata": {
    "collapsed": false,
    "pycharm": {
     "name": "#%%\n",
     "is_executing": false
    }
   }
  },
  {
   "cell_type": "markdown",
   "source": [
    "a) macierz 3x3"
   ],
   "metadata": {
    "collapsed": false
   }
  },
  {
   "cell_type": "code",
   "execution_count": 50,
   "outputs": [
    {
     "name": "stdout",
     "text": [
      "Pod linią:  50046\nNa lini:  2\nNad linią:  49952\n"
     ],
     "output_type": "stream"
    },
    {
     "data": {
      "text/plain": "<Figure size 432x288 with 1 Axes>",
      "image/png": "[encoded data removed]"
     },
     "metadata": {
      "needs_background": "light"
     },
     "output_type": "display_data"
    }
   ],
   "source": [
    "%matplotlib inline\n",
    "\n",
    "classified_points = classify_points(points_1, 0.1,generate_matrix_3x3)\n",
    "plotX = Plot([classified_points[0],classified_points[2],classified_points[1]])\n",
    "plotX.draw()\n",
    "\n",
    "print(\"Pod linią: \", len(classified_points[0].points))\n",
    "print(\"Na lini: \", len(classified_points[1].points))\n",
    "print(\"Nad linią: \", len(classified_points[2].points))"
   ],
   "metadata": {
    "collapsed": false,
    "pycharm": {
     "name": "#%%\n",
     "is_executing": false
    }
   }
  },
  {
   "cell_type": "markdown",
   "source": [
    "Dla wyznacznika liczonego funkcją z biblioteki numpy:"
   ],
   "metadata": {
    "collapsed": false
   }
  },
  {
   "cell_type": "code",
   "execution_count": 51,
   "outputs": [
    {
     "name": "stdout",
     "text": [
      "Pod linią:  50046\nNa lini:  2\nNad linią:  49952\n"
     ],
     "output_type": "stream"
    }
   ],
   "source": [
    "classified_points = classify_points(points_1, 0.1,generate_matrix_3x3,det_evaluator=numpy_det)\n",
    "\n",
    "print(\"Pod linią: \", len(classified_points[0].points))\n",
    "print(\"Na lini: \", len(classified_points[1].points))\n",
    "print(\"Nad linią: \", len(classified_points[2].points))"
   ],
   "metadata": {
    "collapsed": false,
    "pycharm": {
     "name": "#%%\n",
     "is_executing": false
    }
   }
  },
  {
   "cell_type": "markdown",
   "source": [
    "3. epsilon = 1\n",
    "\n",
    "a) macierz 2x2"
   ],
   "metadata": {
    "collapsed": false
   }
  },
  {
   "cell_type": "code",
   "execution_count": 52,
   "metadata": {
    "pycharm": {
     "is_executing": false
    }
   },
   "outputs": [
    {
     "name": "stdout",
     "text": [
      "Pod linią:  50031\nNa lini:  48\nNad linią:  49921\n"
     ],
     "output_type": "stream"
    },
    {
     "data": {
      "text/plain": "<Figure size 432x288 with 1 Axes>",
      "image/png": "[encoded data removed]"
     },
     "metadata": {
      "needs_background": "light"
     },
     "output_type": "display_data"
    }
   ],
   "source": [
    "%matplotlib inline\n",
    "\n",
    "classified_points = classify_points(points_1, 1)\n",
    "plotX = Plot([classified_points[0],classified_points[2],classified_points[1]])\n",
    "plotX.draw()\n",
    "\n",
    "print(\"Pod linią: \", len(classified_points[0].points))\n",
    "print(\"Na lini: \", len(classified_points[1].points))\n",
    "print(\"Nad linią: \", len(classified_points[2].points))"
   ]
  },
  {
   "cell_type": "markdown",
   "source": [
    "Dla wyznacznika liczonego funkcją z biblioteki numpy:"
   ],
   "metadata": {
    "collapsed": false
   }
  },
  {
   "cell_type": "code",
   "execution_count": 53,
   "outputs": [
    {
     "name": "stdout",
     "text": [
      "Pod linią:  50031\nNa lini:  48\nNad linią:  49921\n"
     ],
     "output_type": "stream"
    }
   ],
   "source": [
    "classified_points = classify_points(points_1, 1,det_evaluator=numpy_det)\n",
    "\n",
    "print(\"Pod linią: \", len(classified_points[0].points))\n",
    "print(\"Na lini: \", len(classified_points[1].points))\n",
    "print(\"Nad linią: \", len(classified_points[2].points))"
   ],
   "metadata": {
    "collapsed": false,
    "pycharm": {
     "name": "#%%\n",
     "is_executing": false
    }
   }
  },
  {
   "cell_type": "markdown",
   "source": [
    "a) macierz 3x3"
   ],
   "metadata": {
    "collapsed": false
   }
  },
  {
   "cell_type": "code",
   "execution_count": 54,
   "outputs": [
    {
     "name": "stdout",
     "text": [
      "Pod linią:  50031\nNa lini:  48\nNad linią:  49921\n"
     ],
     "output_type": "stream"
    },
    {
     "data": {
      "text/plain": "<Figure size 432x288 with 1 Axes>",
      "image/png": "[encoded data removed]"
     },
     "metadata": {
      "needs_background": "light"
     },
     "output_type": "display_data"
    }
   ],
   "source": [
    "%matplotlib inline\n",
    "\n",
    "classified_points = classify_points(points_1, 1,generate_matrix_3x3)\n",
    "plotX = Plot([classified_points[0],classified_points[2],classified_points[1]])\n",
    "plotX.draw()\n",
    "\n",
    "print(\"Pod linią: \", len(classified_points[0].points))\n",
    "print(\"Na lini: \", len(classified_points[1].points))\n",
    "print(\"Nad linią: \", len(classified_points[2].points))"
   ],
   "metadata": {
    "collapsed": false,
    "pycharm": {
     "name": "#%%\n",
     "is_executing": false
    }
   }
  },
  {
   "cell_type": "markdown",
   "source": [
    "Dla wyznacznika liczonego funkcją z biblioteki numpy:"
   ],
   "metadata": {
    "collapsed": false
   }
  },
  {
   "cell_type": "code",
   "execution_count": 55,
   "outputs": [
    {
     "name": "stdout",
     "text": [
      "Pod linią:  50031\nNa lini:  48\nNad linią:  49921\n"
     ],
     "output_type": "stream"
    }
   ],
   "source": [
    "classified_points = classify_points(points_1, 1,generate_matrix_3x3,det_evaluator=numpy_det)\n",
    "\n",
    "print(\"Pod linią: \", len(classified_points[0].points))\n",
    "print(\"Na lini: \", len(classified_points[1].points))\n",
    "print(\"Nad linią: \", len(classified_points[2].points))"
   ],
   "metadata": {
    "collapsed": false,
    "pycharm": {
     "name": "#%%\n",
     "is_executing": false
    }
   }
  },
  {
   "cell_type": "markdown",
   "source": [
    "4. epsilon = 10\n",
    "\n",
    "a) macierz 2x2"
   ],
   "metadata": {
    "collapsed": false
   }
  },
  {
   "cell_type": "code",
   "execution_count": 56,
   "metadata": {
    "pycharm": {
     "is_executing": false
    }
   },
   "outputs": [
    {
     "name": "stdout",
     "text": [
      "Pod linią:  49790\nNa lini:  497\nNad linią:  49713\n"
     ],
     "output_type": "stream"
    },
    {
     "data": {
      "text/plain": "<Figure size 432x288 with 1 Axes>",
      "image/png": "[encoded data removed]"
     },
     "metadata": {
      "needs_background": "light"
     },
     "output_type": "display_data"
    }
   ],
   "source": [
    "%matplotlib inline\n",
    "\n",
    "classified_points = classify_points(points_1, 10)\n",
    "plotX = Plot([classified_points[0],classified_points[2],classified_points[1]])\n",
    "plotX.draw()\n",
    "\n",
    "print(\"Pod linią: \", len(classified_points[0].points))\n",
    "print(\"Na lini: \", len(classified_points[1].points))\n",
    "print(\"Nad linią: \", len(classified_points[2].points))"
   ]
  },
  {
   "cell_type": "markdown",
   "source": [
    "Dla wyznacznika liczonego funkcją z biblioteki numpy:"
   ],
   "metadata": {
    "collapsed": false
   }
  },
  {
   "cell_type": "code",
   "execution_count": 57,
   "outputs": [
    {
     "name": "stdout",
     "text": [
      "Pod linią:  49790\nNa lini:  497\nNad linią:  49713\n"
     ],
     "output_type": "stream"
    }
   ],
   "source": [
    "classified_points = classify_points(points_1, 10,det_evaluator=numpy_det)\n",
    "\n",
    "print(\"Pod linią: \", len(classified_points[0].points))\n",
    "print(\"Na lini: \", len(classified_points[1].points))\n",
    "print(\"Nad linią: \", len(classified_points[2].points))"
   ],
   "metadata": {
    "collapsed": false,
    "pycharm": {
     "name": "#%%\n",
     "is_executing": false
    }
   }
  },
  {
   "cell_type": "markdown",
   "source": [
    "a) macierz 3x3"
   ],
   "metadata": {
    "collapsed": false
   }
  },
  {
   "cell_type": "code",
   "execution_count": 58,
   "outputs": [
    {
     "name": "stdout",
     "text": [
      "Pod linią:  49790\nNa lini:  497\nNad linią:  49713\n"
     ],
     "output_type": "stream"
    },
    {
     "data": {
      "text/plain": "<Figure size 432x288 with 1 Axes>",
      "image/png": "[encoded data removed]"
     },
     "metadata": {
      "needs_background": "light"
     },
     "output_type": "display_data"
    }
   ],
   "source": [
    "%matplotlib inline\n",
    "\n",
    "classified_points = classify_points(points_1, 10,generate_matrix_3x3)\n",
    "plotX = Plot([classified_points[0],classified_points[2],classified_points[1]])\n",
    "plotX.draw()\n",
    "\n",
    "print(\"Pod linią: \", len(classified_points[0].points))\n",
    "print(\"Na lini: \", len(classified_points[1].points))\n",
    "print(\"Nad linią: \", len(classified_points[2].points))"
   ],
   "metadata": {
    "collapsed": false,
    "pycharm": {
     "name": "#%%\n",
     "is_executing": false
    }
   }
  },
  {
   "cell_type": "markdown",
   "source": [
    "Dla wyznacznika liczonego funkcją z biblioteki numpy:"
   ],
   "metadata": {
    "collapsed": false
   }
  },
  {
   "cell_type": "code",
   "execution_count": 59,
   "outputs": [
    {
     "name": "stdout",
     "text": [
      "Pod linią:  49790\nNa lini:  497\nNad linią:  49713\n"
     ],
     "output_type": "stream"
    }
   ],
   "source": [
    "classified_points = classify_points(points_1, 10,generate_matrix_3x3,det_evaluator=numpy_det)\n",
    "\n",
    "print(\"Pod linią: \", len(classified_points[0].points))\n",
    "print(\"Na lini: \", len(classified_points[1].points))\n",
    "print(\"Nad linią: \", len(classified_points[2].points))"
   ],
   "metadata": {
    "collapsed": false,
    "pycharm": {
     "name": "#%%\n",
     "is_executing": false
    }
   }
  },
  {
   "cell_type": "markdown",
   "metadata": {},
   "source": [
    "#### Wykres dla drugiego zbioru punktow"
   ]
  },
  {
   "cell_type": "markdown",
   "metadata": {
    "pycharm": {
     "is_executing": false,
     "name": "#%% md\n"
    }
   },
   "source": [
    "1. epsilon = 0.1 \n",
    "\n",
    "a) macierz 2x2"
   ]
  },
  {
   "cell_type": "code",
   "execution_count": 60,
   "outputs": [
    {
     "name": "stdout",
     "text": [
      "Pod linią:  50093\nNa lini:  5\nNad linią:  49902\n"
     ],
     "output_type": "stream"
    },
    {
     "data": {
      "text/plain": "<Figure size 432x288 with 1 Axes>",
      "image/png": "[encoded data removed]"
     },
     "metadata": {
      "needs_background": "light"
     },
     "output_type": "display_data"
    }
   ],
   "source": [
    "%matplotlib inline\n",
    "\n",
    "classified_points = classify_points(points_2, 0.1)\n",
    "plotX = Plot([classified_points[0],classified_points[2],classified_points[1]])\n",
    "plotX.draw()\n",
    "\n",
    "print(\"Pod linią: \", len(classified_points[0].points))\n",
    "print(\"Na lini: \", len(classified_points[1].points))\n",
    "print(\"Nad linią: \", len(classified_points[2].points))"
   ],
   "metadata": {
    "collapsed": false,
    "pycharm": {
     "name": "#%%\n",
     "is_executing": false
    }
   }
  },
  {
   "cell_type": "markdown",
   "source": [
    "Dla wyznacznika liczonego funkcją z biblioteki numpy:"
   ],
   "metadata": {
    "collapsed": false
   }
  },
  {
   "cell_type": "code",
   "execution_count": 61,
   "outputs": [
    {
     "name": "stdout",
     "text": [
      "Pod linią:  50094\nNa lini:  0\nNad linią:  49906\n"
     ],
     "output_type": "stream"
    }
   ],
   "source": [
    "classified_points = classify_points(points_2, 0.1,det_evaluator=numpy_det)\n",
    "\n",
    "print(\"Pod linią: \", len(classified_points[0].points))\n",
    "print(\"Na lini: \", len(classified_points[1].points))\n",
    "print(\"Nad linią: \", len(classified_points[2].points))"
   ],
   "metadata": {
    "collapsed": false,
    "pycharm": {
     "name": "#%%\n",
     "is_executing": false
    }
   }
  },
  {
   "cell_type": "markdown",
   "source": [
    "b) macierz 3x3"
   ],
   "metadata": {
    "collapsed": false
   }
  },
  {
   "cell_type": "code",
   "execution_count": 62,
   "outputs": [
    {
     "name": "stdout",
     "text": [
      "Pod linią:  50097\nNa lini:  0\nNad linią:  49903\n"
     ],
     "output_type": "stream"
    },
    {
     "data": {
      "text/plain": "<Figure size 432x288 with 1 Axes>",
      "image/png": "[encoded data removed]"
     },
     "metadata": {
      "needs_background": "light"
     },
     "output_type": "display_data"
    }
   ],
   "source": [
    "%matplotlib inline\n",
    "\n",
    "classified_points = classify_points(points_2, 0.1,generate_matrix_3x3)\n",
    "plotX = Plot([classified_points[0],classified_points[2],classified_points[1]])\n",
    "plotX.draw()\n",
    "\n",
    "print(\"Pod linią: \", len(classified_points[0].points))\n",
    "print(\"Na lini: \", len(classified_points[1].points))\n",
    "print(\"Nad linią: \", len(classified_points[2].points))"
   ],
   "metadata": {
    "collapsed": false,
    "pycharm": {
     "name": "#%%\n",
     "is_executing": false
    }
   }
  },
  {
   "cell_type": "markdown",
   "source": [
    "Dla wyznacznika liczonego funkcją z biblioteki numpy:"
   ],
   "metadata": {
    "collapsed": false
   }
  },
  {
   "cell_type": "code",
   "execution_count": 63,
   "outputs": [
    {
     "name": "stdout",
     "text": [
      "Pod linią:  50097\nNa lini:  0\nNad linią:  49903\n"
     ],
     "output_type": "stream"
    }
   ],
   "source": [
    "classified_points = classify_points(points_2, 0.1,generate_matrix_3x3,det_evaluator=numpy_det)\n",
    "\n",
    "print(\"Pod linią: \", len(classified_points[0].points))\n",
    "print(\"Na lini: \", len(classified_points[1].points))\n",
    "print(\"Nad linią: \", len(classified_points[2].points))"
   ],
   "metadata": {
    "collapsed": false,
    "pycharm": {
     "name": "#%%\n",
     "is_executing": false
    }
   }
  },
  {
   "cell_type": "markdown",
   "metadata": {
    "pycharm": {
     "is_executing": false,
     "name": "#%% md\n"
    }
   },
   "source": [
    "2. epsilon = 10^5\n",
    "\n",
    "a) macierz 2x2"
   ]
  },
  {
   "cell_type": "code",
   "execution_count": 64,
   "outputs": [
    {
     "name": "stdout",
     "text": [
      "Pod linią:  50093\nNa lini:  5\nNad linią:  49902\n"
     ],
     "output_type": "stream"
    },
    {
     "data": {
      "text/plain": "<Figure size 432x288 with 1 Axes>",
      "image/png": "[encoded data removed]"
     },
     "metadata": {
      "needs_background": "light"
     },
     "output_type": "display_data"
    }
   ],
   "source": [
    "%matplotlib inline\n",
    "\n",
    "classified_points = classify_points(points_2, math.pow(10,5))\n",
    "plotX = Plot([classified_points[0],classified_points[2],classified_points[1]])\n",
    "plotX.draw()\n",
    "\n",
    "print(\"Pod linią: \", len(classified_points[0].points))\n",
    "print(\"Na lini: \", len(classified_points[1].points))\n",
    "print(\"Nad linią: \", len(classified_points[2].points))"
   ],
   "metadata": {
    "collapsed": false,
    "pycharm": {
     "name": "#%%\n",
     "is_executing": false
    }
   }
  },
  {
   "cell_type": "markdown",
   "source": [
    "Dla wyznacznika liczonego funkcją z biblioteki numpy:"
   ],
   "metadata": {
    "collapsed": false
   }
  },
  {
   "cell_type": "code",
   "execution_count": 65,
   "outputs": [
    {
     "name": "stdout",
     "text": [
      "Pod linią:  50094\nNa lini:  0\nNad linią:  49906\n"
     ],
     "output_type": "stream"
    }
   ],
   "source": [
    "classified_points = classify_points(points_2, math.pow(10,5),det_evaluator=numpy_det)\n",
    "\n",
    "print(\"Pod linią: \", len(classified_points[0].points))\n",
    "print(\"Na lini: \", len(classified_points[1].points))\n",
    "print(\"Nad linią: \", len(classified_points[2].points))"
   ],
   "metadata": {
    "collapsed": false,
    "pycharm": {
     "name": "#%%\n",
     "is_executing": false
    }
   }
  },
  {
   "cell_type": "markdown",
   "source": [
    "b) macierz 3x3"
   ],
   "metadata": {
    "collapsed": false
   }
  },
  {
   "cell_type": "code",
   "execution_count": 66,
   "outputs": [
    {
     "name": "stdout",
     "text": [
      "Pod linią:  50097\nNa lini:  0\nNad linią:  49903\n"
     ],
     "output_type": "stream"
    },
    {
     "data": {
      "text/plain": "<Figure size 432x288 with 1 Axes>",
      "image/png": "[encoded data removed]"
     },
     "metadata": {
      "needs_background": "light"
     },
     "output_type": "display_data"
    }
   ],
   "source": [
    "%matplotlib inline\n",
    "\n",
    "classified_points = classify_points(points_2, math.pow(10,5),generate_matrix_3x3)\n",
    "plotX = Plot([classified_points[0],classified_points[2],classified_points[1]])\n",
    "plotX.draw()\n",
    "\n",
    "print(\"Pod linią: \", len(classified_points[0].points))\n",
    "print(\"Na lini: \", len(classified_points[1].points))\n",
    "print(\"Nad linią: \", len(classified_points[2].points))"
   ],
   "metadata": {
    "collapsed": false,
    "pycharm": {
     "name": "#%%\n",
     "is_executing": false
    }
   }
  },
  {
   "cell_type": "markdown",
   "source": [
    "Dla wyznacznika liczonego funkcją z biblioteki numpy:"
   ],
   "metadata": {
    "collapsed": false
   }
  },
  {
   "cell_type": "code",
   "execution_count": 67,
   "outputs": [
    {
     "name": "stdout",
     "text": [
      "Pod linią:  50097\nNa lini:  0\nNad linią:  49903\n"
     ],
     "output_type": "stream"
    }
   ],
   "source": [
    "classified_points = classify_points(points_2,math.pow(10,5),generate_matrix_3x3,det_evaluator=numpy_det)\n",
    "\n",
    "print(\"Pod linią: \", len(classified_points[0].points))\n",
    "print(\"Na lini: \", len(classified_points[1].points))\n",
    "print(\"Nad linią: \", len(classified_points[2].points))"
   ],
   "metadata": {
    "collapsed": false,
    "pycharm": {
     "name": "#%%\n",
     "is_executing": false
    }
   }
  },
  {
   "cell_type": "markdown",
   "metadata": {
    "pycharm": {
     "is_executing": false,
     "name": "#%% md\n"
    }
   },
   "source": [
    "3. epsilon = 10^12 \n",
    "\n",
    "a) macierz 2x2"
   ]
  },
  {
   "cell_type": "code",
   "execution_count": 68,
   "outputs": [
    {
     "name": "stdout",
     "text": [
      "Pod linią:  49877\nNa lini:  461\nNad linią:  49662\n"
     ],
     "output_type": "stream"
    },
    {
     "data": {
      "text/plain": "<Figure size 432x288 with 1 Axes>",
      "image/png": "[encoded data removed]"
     },
     "metadata": {
      "needs_background": "light"
     },
     "output_type": "display_data"
    }
   ],
   "source": [
    "%matplotlib inline\n",
    "\n",
    "classified_points = classify_points(points_2, math.pow(10,12))\n",
    "plotX = Plot([classified_points[0],classified_points[2],classified_points[1]])\n",
    "plotX.draw()\n",
    "\n",
    "print(\"Pod linią: \", len(classified_points[0].points))\n",
    "print(\"Na lini: \", len(classified_points[1].points))\n",
    "print(\"Nad linią: \", len(classified_points[2].points))"
   ],
   "metadata": {
    "collapsed": false,
    "pycharm": {
     "name": "#%%\n",
     "is_executing": false
    }
   }
  },
  {
   "cell_type": "markdown",
   "source": [
    "Dla wyznacznika liczonego funkcją z biblioteki numpy:"
   ],
   "metadata": {
    "collapsed": false
   }
  },
  {
   "cell_type": "code",
   "execution_count": 69,
   "outputs": [
    {
     "name": "stdout",
     "text": [
      "Pod linią:  49878\nNa lini:  459\nNad linią:  49663\n"
     ],
     "output_type": "stream"
    }
   ],
   "source": [
    "classified_points = classify_points(points_2, math.pow(10,12),det_evaluator=numpy_det)\n",
    "\n",
    "print(\"Pod linią: \", len(classified_points[0].points))\n",
    "print(\"Na lini: \", len(classified_points[1].points))\n",
    "print(\"Nad linią: \", len(classified_points[2].points))"
   ],
   "metadata": {
    "collapsed": false,
    "pycharm": {
     "name": "#%%\n",
     "is_executing": false
    }
   }
  },
  {
   "cell_type": "markdown",
   "source": [
    "b) macierz 3x3"
   ],
   "metadata": {
    "collapsed": false
   }
  },
  {
   "cell_type": "code",
   "execution_count": 70,
   "outputs": [
    {
     "name": "stdout",
     "text": [
      "Pod linią:  49878\nNa lini:  460\nNad linią:  49662\n"
     ],
     "output_type": "stream"
    },
    {
     "data": {
      "text/plain": "<Figure size 432x288 with 1 Axes>",
      "image/png": "[encoded data removed]"
     },
     "metadata": {
      "needs_background": "light"
     },
     "output_type": "display_data"
    }
   ],
   "source": [
    "%matplotlib inline\n",
    "\n",
    "classified_points = classify_points(points_2, math.pow(10,12),generate_matrix_3x3)\n",
    "plotX = Plot([classified_points[0],classified_points[2],classified_points[1]])\n",
    "plotX.draw()\n",
    "\n",
    "print(\"Pod linią: \", len(classified_points[0].points))\n",
    "print(\"Na lini: \", len(classified_points[1].points))\n",
    "print(\"Nad linią: \", len(classified_points[2].points))"
   ],
   "metadata": {
    "collapsed": false,
    "pycharm": {
     "name": "#%%\n",
     "is_executing": false
    }
   }
  },
  {
   "cell_type": "markdown",
   "source": [
    "Dla wyznacznika liczonego funkcją z biblioteki numpy:"
   ],
   "metadata": {
    "collapsed": false
   }
  },
  {
   "cell_type": "code",
   "execution_count": 71,
   "outputs": [
    {
     "name": "stdout",
     "text": [
      "Pod linią:  49878\nNa lini:  460\nNad linią:  49662\n"
     ],
     "output_type": "stream"
    }
   ],
   "source": [
    "classified_points = classify_points(points_2,math.pow(10,12),generate_matrix_3x3, det_evaluator=numpy_det)\n",
    "\n",
    "print(\"Pod linią: \", len(classified_points[0].points))\n",
    "print(\"Na lini: \", len(classified_points[1].points))\n",
    "print(\"Nad linią: \", len(classified_points[2].points))"
   ],
   "metadata": {
    "collapsed": false,
    "pycharm": {
     "name": "#%%\n",
     "is_executing": false
    }
   }
  },
  {
   "cell_type": "markdown",
   "source": [
    "#### Wykres dla  zbioru punktow na okregu"
   ],
   "metadata": {
    "collapsed": false
   }
  },
  {
   "cell_type": "markdown",
   "metadata": {
    "pycharm": {
     "is_executing": false,
     "name": "#%% md\n"
    }
   },
   "source": [
    "1. epsilon = 0.1 \n",
    "\n",
    "a) macierz 2x2"
   ]
  },
  {
   "cell_type": "code",
   "execution_count": 72,
   "outputs": [
    {
     "name": "stdout",
     "text": [
      "Pod linią:  489\nNa lini:  0\nNad linią:  511\n"
     ],
     "output_type": "stream"
    },
    {
     "data": {
      "text/plain": "<Figure size 432x288 with 1 Axes>",
      "image/png": "[encoded data removed]"
     },
     "metadata": {
      "needs_background": "light"
     },
     "output_type": "display_data"
    }
   ],
   "source": [
    "%matplotlib inline\n",
    "\n",
    "classified_points = classify_points(points_3, 0.1)\n",
    "plotX = Plot([classified_points[0],classified_points[2],classified_points[1]])\n",
    "plotX.draw()\n",
    "\n",
    "print(\"Pod linią: \", len(classified_points[0].points))\n",
    "print(\"Na lini: \", len(classified_points[1].points))\n",
    "print(\"Nad linią: \", len(classified_points[2].points))"
   ],
   "metadata": {
    "collapsed": false,
    "pycharm": {
     "name": "#%%\n",
     "is_executing": false
    }
   }
  },
  {
   "cell_type": "markdown",
   "source": [
    "Dla wyznacznika liczonego funkcją z biblioteki numpy:"
   ],
   "metadata": {
    "collapsed": false
   }
  },
  {
   "cell_type": "code",
   "execution_count": 73,
   "outputs": [
    {
     "name": "stdout",
     "text": [
      "Pod linią:  489\nNa lini:  0\nNad linią:  511\n"
     ],
     "output_type": "stream"
    }
   ],
   "source": [
    "classified_points = classify_points(points_3, 0.1,det_evaluator=numpy_det)\n",
    "\n",
    "print(\"Pod linią: \", len(classified_points[0].points))\n",
    "print(\"Na lini: \", len(classified_points[1].points))\n",
    "print(\"Nad linią: \", len(classified_points[2].points))"
   ],
   "metadata": {
    "collapsed": false,
    "pycharm": {
     "name": "#%%\n",
     "is_executing": false
    }
   }
  },
  {
   "cell_type": "markdown",
   "source": [
    "b) macierz 3x3"
   ],
   "metadata": {
    "collapsed": false
   }
  },
  {
   "cell_type": "code",
   "execution_count": 74,
   "outputs": [
    {
     "name": "stdout",
     "text": [
      "Pod linią:  489\nNa lini:  0\nNad linią:  511\n"
     ],
     "output_type": "stream"
    },
    {
     "data": {
      "text/plain": "<Figure size 432x288 with 1 Axes>",
      "image/png": "[encoded data removed]"
     },
     "metadata": {
      "needs_background": "light"
     },
     "output_type": "display_data"
    }
   ],
   "source": [
    "%matplotlib inline\n",
    "\n",
    "classified_points = classify_points(points_3, 0.1,generate_matrix_3x3)\n",
    "plotX = Plot([classified_points[0],classified_points[2],classified_points[1]])\n",
    "plotX.draw()\n",
    "\n",
    "print(\"Pod linią: \", len(classified_points[0].points))\n",
    "print(\"Na lini: \", len(classified_points[1].points))\n",
    "print(\"Nad linią: \", len(classified_points[2].points))"
   ],
   "metadata": {
    "collapsed": false,
    "pycharm": {
     "name": "#%%\n",
     "is_executing": false
    }
   }
  },
  {
   "cell_type": "markdown",
   "source": [
    "Dla wyznacznika liczonego funkcją z biblioteki numpy:"
   ],
   "metadata": {
    "collapsed": false
   }
  },
  {
   "cell_type": "code",
   "execution_count": 75,
   "outputs": [
    {
     "name": "stdout",
     "text": [
      "Pod linią:  489\nNa lini:  0\nNad linią:  511\n"
     ],
     "output_type": "stream"
    }
   ],
   "source": [
    "classified_points = classify_points(points_3,0.1,generate_matrix_3x3,det_evaluator=numpy_det)\n",
    "\n",
    "print(\"Pod linią: \", len(classified_points[0].points))\n",
    "print(\"Na lini: \", len(classified_points[1].points))\n",
    "print(\"Nad linią: \", len(classified_points[2].points))"
   ],
   "metadata": {
    "collapsed": false,
    "pycharm": {
     "name": "#%%\n",
     "is_executing": false
    }
   }
  },
  {
   "cell_type": "markdown",
   "metadata": {
    "pycharm": {
     "is_executing": false,
     "name": "#%% md\n"
    }
   },
   "source": [
    "2. epsilon = 5\n",
    "\n",
    "a) macierz 2x2"
   ]
  },
  {
   "cell_type": "code",
   "execution_count": 76,
   "outputs": [
    {
     "name": "stdout",
     "text": [
      "Pod linią: ",
      " 484\nNa lini:  7\nNad linią:  509\n"
     ],
     "output_type": "stream"
    },
    {
     "data": {
      "text/plain": "<Figure size 432x288 with 1 Axes>",
      "image/png": "[encoded data removed]"
     },
     "metadata": {
      "needs_background": "light"
     },
     "output_type": "display_data"
    }
   ],
   "source": [
    "%matplotlib inline\n",
    "\n",
    "classified_points = classify_points(points_3, 5)\n",
    "plotX = Plot([classified_points[0],classified_points[2],classified_points[1]])\n",
    "plotX.draw()\n",
    "\n",
    "print(\"Pod linią: \", len(classified_points[0].points))\n",
    "print(\"Na lini: \", len(classified_points[1].points))\n",
    "print(\"Nad linią: \", len(classified_points[2].points))"
   ],
   "metadata": {
    "collapsed": false,
    "pycharm": {
     "name": "#%%\n",
     "is_executing": false
    }
   }
  },
  {
   "cell_type": "markdown",
   "source": [
    "Dla wyznacznika liczonego funkcją z biblioteki numpy:"
   ],
   "metadata": {
    "collapsed": false
   }
  },
  {
   "cell_type": "code",
   "execution_count": 77,
   "outputs": [
    {
     "name": "stdout",
     "text": [
      "Pod linią:  50094\nNa lini:  0\nNad linią:  49906\n"
     ],
     "output_type": "stream"
    }
   ],
   "source": [
    "classified_points = classify_points(points_2, 5,det_evaluator=numpy_det)\n",
    "\n",
    "print(\"Pod linią: \", len(classified_points[0].points))\n",
    "print(\"Na lini: \", len(classified_points[1].points))\n",
    "print(\"Nad linią: \", len(classified_points[2].points))"
   ],
   "metadata": {
    "collapsed": false,
    "pycharm": {
     "name": "#%%\n",
     "is_executing": false
    }
   }
  },
  {
   "cell_type": "markdown",
   "source": [
    "b) macierz 3x3"
   ],
   "metadata": {
    "collapsed": false
   }
  },
  {
   "cell_type": "code",
   "execution_count": 78,
   "outputs": [
    {
     "name": "stdout",
     "text": [
      "Pod linią:  484\nNa lini:  7\nNad linią:  509\n"
     ],
     "output_type": "stream"
    },
    {
     "data": {
      "text/plain": "<Figure size 432x288 with 1 Axes>",
      "image/png": "[encoded data removed]"
     },
     "metadata": {
      "needs_background": "light"
     },
     "output_type": "display_data"
    }
   ],
   "source": [
    "%matplotlib inline\n",
    "\n",
    "classified_points = classify_points(points_3, 5,generate_matrix_3x3)\n",
    "plotX = Plot([classified_points[0],classified_points[2],classified_points[1]])\n",
    "plotX.draw()\n",
    "\n",
    "print(\"Pod linią: \", len(classified_points[0].points))\n",
    "print(\"Na lini: \", len(classified_points[1].points))\n",
    "print(\"Nad linią: \", len(classified_points[2].points))"
   ],
   "metadata": {
    "collapsed": false,
    "pycharm": {
     "name": "#%%\n",
     "is_executing": false
    }
   }
  },
  {
   "cell_type": "markdown",
   "source": [
    "Dla wyznacznika liczonego funkcją z biblioteki numpy:"
   ],
   "metadata": {
    "collapsed": false
   }
  },
  {
   "cell_type": "code",
   "execution_count": 79,
   "outputs": [
    {
     "name": "stdout",
     "text": [
      "Pod linią:  484\nNa lini:  7\nNad linią:  509\n"
     ],
     "output_type": "stream"
    }
   ],
   "source": [
    "classified_points = classify_points(points_3,5,generate_matrix_3x3, det_evaluator=numpy_det)\n",
    "\n",
    "print(\"Pod linią: \", len(classified_points[0].points))\n",
    "print(\"Na lini: \", len(classified_points[1].points))\n",
    "print(\"Nad linią: \", len(classified_points[2].points))"
   ],
   "metadata": {
    "collapsed": false,
    "pycharm": {
     "name": "#%%\n",
     "is_executing": false
    }
   }
  },
  {
   "cell_type": "markdown",
   "source": [
    "2. epsilon = 10\n",
    "\n",
    "a) macierz 2x2"
   ],
   "metadata": {
    "collapsed": false
   }
  },
  {
   "cell_type": "code",
   "execution_count": 80,
   "outputs": [
    {
     "name": "stdout",
     "text": [
      "Pod linią:  467\nNa lini:  32\nNad linią:  501\n"
     ],
     "output_type": "stream"
    },
    {
     "data": {
      "text/plain": "<Figure size 432x288 with 1 Axes>",
      "image/png": "[encoded data removed]"
     },
     "metadata": {
      "needs_background": "light"
     },
     "output_type": "display_data"
    }
   ],
   "source": [
    "%matplotlib inline\n",
    "\n",
    "classified_points = classify_points(points_3, 10)\n",
    "plotX = Plot([classified_points[0],classified_points[2],classified_points[1]])\n",
    "plotX.draw()\n",
    "\n",
    "print(\"Pod linią: \", len(classified_points[0].points))\n",
    "print(\"Na lini: \", len(classified_points[1].points))\n",
    "print(\"Nad linią: \", len(classified_points[2].points))"
   ],
   "metadata": {
    "collapsed": false,
    "pycharm": {
     "name": "#%%\n",
     "is_executing": false
    }
   }
  },
  {
   "cell_type": "markdown",
   "source": [
    "Dla wyznacznika liczonego funkcją z biblioteki numpy:"
   ],
   "metadata": {
    "collapsed": false
   }
  },
  {
   "cell_type": "code",
   "execution_count": 81,
   "outputs": [
    {
     "name": "stdout",
     "text": [
      "Pod linią:  467\nNa lini:  32\nNad linią:  501\n"
     ],
     "output_type": "stream"
    }
   ],
   "source": [
    "classified_points = classify_points(points_3, 10, det_evaluator=numpy_det)\n",
    "\n",
    "print(\"Pod linią: \", len(classified_points[0].points))\n",
    "print(\"Na lini: \", len(classified_points[1].points))\n",
    "print(\"Nad linią: \", len(classified_points[2].points))"
   ],
   "metadata": {
    "collapsed": false,
    "pycharm": {
     "name": "#%%\n",
     "is_executing": false
    }
   }
  },
  {
   "cell_type": "markdown",
   "source": [
    "b) macierz 3x3"
   ],
   "metadata": {
    "collapsed": false
   }
  },
  {
   "cell_type": "code",
   "execution_count": 82,
   "outputs": [
    {
     "name": "stdout",
     "text": [
      "Pod linią:  467\nNa lini:  32\nNad linią:  501\n"
     ],
     "output_type": "stream"
    },
    {
     "data": {
      "text/plain": "<Figure size 432x288 with 1 Axes>",
      "image/png": "[encoded data removed]"
     },
     "metadata": {
      "needs_background": "light"
     },
     "output_type": "display_data"
    }
   ],
   "source": [
    "%matplotlib inline\n",
    "\n",
    "classified_points = classify_points(points_3, 10,generate_matrix_3x3)\n",
    "plotX = Plot([classified_points[0],classified_points[2],classified_points[1]])\n",
    "plotX.draw()\n",
    "\n",
    "print(\"Pod linią: \", len(classified_points[0].points))\n",
    "print(\"Na lini: \", len(classified_points[1].points))\n",
    "print(\"Nad linią: \", len(classified_points[2].points))"
   ],
   "metadata": {
    "collapsed": false,
    "pycharm": {
     "name": "#%%\n",
     "is_executing": false
    }
   }
  },
  {
   "cell_type": "markdown",
   "source": [
    "Dla wyznacznika liczonego funkcją z biblioteki numpy:"
   ],
   "metadata": {
    "collapsed": false
   }
  },
  {
   "cell_type": "code",
   "execution_count": 83,
   "outputs": [
    {
     "name": "stdout",
     "text": [
      "Pod linią:  467\nNa lini:  32\nNad linią:  501\n"
     ],
     "output_type": "stream"
    }
   ],
   "source": [
    "classified_points = classify_points(points_3,10,generate_matrix_3x3, det_evaluator=numpy_det)\n",
    "\n",
    "print(\"Pod linią: \", len(classified_points[0].points))\n",
    "print(\"Na lini: \", len(classified_points[1].points))\n",
    "print(\"Nad linią: \", len(classified_points[2].points))"
   ],
   "metadata": {
    "collapsed": false,
    "pycharm": {
     "name": "#%%\n",
     "is_executing": false
    }
   }
  },
  {
   "cell_type": "markdown",
   "metadata": {},
   "source": [
    "#### Wykres dla  zbioru punktow na prostej"
   ]
  },
  {
   "cell_type": "markdown",
   "metadata": {
    "pycharm": {
     "is_executing": false,
     "name": "#%% md\n"
    }
   },
   "source": [
    "1. epsilon = 10^(-5)\n",
    "\n",
    "a) macierz 2x2"
   ]
  },
  {
   "cell_type": "code",
   "execution_count": 84,
   "metadata": {
    "pycharm": {
     "is_executing": false
    }
   },
   "outputs": [
    {
     "name": "stdout",
     "text": [
      "Pod linią:  0\nNa lini:  1000\nNad linią:  0\n"
     ],
     "output_type": "stream"
    },
    {
     "data": {
      "text/plain": "<Figure size 432x288 with 1 Axes>",
      "image/png": "[encoded data removed]"
     },
     "metadata": {
      "needs_background": "light"
     },
     "output_type": "display_data"
    }
   ],
   "source": [
    "%matplotlib inline\n",
    "\n",
    "classified_points = classify_points(points_4, 0.00001)\n",
    "plotX = Plot([classified_points[0],classified_points[2],classified_points[1]])\n",
    "plotX.draw()\n",
    "\n",
    "print(\"Pod linią: \", len(classified_points[0].points))\n",
    "print(\"Na lini: \", len(classified_points[1].points))\n",
    "print(\"Nad linią: \", len(classified_points[2].points))"
   ]
  },
  {
   "cell_type": "markdown",
   "source": [
    "Dla wyznacznika liczonego funkcją z biblioteki numpy:"
   ],
   "metadata": {
    "collapsed": false
   }
  },
  {
   "cell_type": "code",
   "execution_count": 85,
   "outputs": [
    {
     "name": "stdout",
     "text": [
      "Pod linią:  0\nNa lini:  1000\nNad linią:  0\n"
     ],
     "output_type": "stream"
    }
   ],
   "source": [
    "classified_points = classify_points(points_4,0.00001, det_evaluator=numpy_det)\n",
    "\n",
    "print(\"Pod linią: \", len(classified_points[0].points))\n",
    "print(\"Na lini: \", len(classified_points[1].points))\n",
    "print(\"Nad linią: \", len(classified_points[2].points))"
   ],
   "metadata": {
    "collapsed": false,
    "pycharm": {
     "name": "#%%\n",
     "is_executing": false
    }
   }
  },
  {
   "cell_type": "markdown",
   "source": [
    "b) macierz 3x3"
   ],
   "metadata": {
    "collapsed": false
   }
  },
  {
   "cell_type": "code",
   "execution_count": 86,
   "outputs": [
    {
     "name": "stdout",
     "text": [
      "Pod linią:  0\nNa lini:  1000\nNad linią:  0\n"
     ],
     "output_type": "stream"
    },
    {
     "data": {
      "text/plain": "<Figure size 432x288 with 1 Axes>",
      "image/png": "[encoded data removed]"
     },
     "metadata": {
      "needs_background": "light"
     },
     "output_type": "display_data"
    }
   ],
   "source": [
    "%matplotlib inline\n",
    "\n",
    "classified_points = classify_points(points_4, 0.00001,generate_matrix_3x3)\n",
    "plotX = Plot([classified_points[0],classified_points[2],classified_points[1]])\n",
    "plotX.draw()\n",
    "\n",
    "print(\"Pod linią: \", len(classified_points[0].points))\n",
    "print(\"Na lini: \", len(classified_points[1].points))\n",
    "print(\"Nad linią: \", len(classified_points[2].points))"
   ],
   "metadata": {
    "collapsed": false,
    "pycharm": {
     "name": "#%%\n",
     "is_executing": false
    }
   }
  },
  {
   "cell_type": "markdown",
   "source": [
    "Dla wyznacznika liczonego funkcją z biblioteki numpy:"
   ],
   "metadata": {
    "collapsed": false
   }
  },
  {
   "cell_type": "code",
   "execution_count": 87,
   "outputs": [
    {
     "name": "stdout",
     "text": [
      "Pod linią:  0\nNa lini:  1000\nNad linią:  0\n"
     ],
     "output_type": "stream"
    }
   ],
   "source": [
    "classified_points = classify_points(points_4,0.00001,generate_matrix_3x3, det_evaluator=numpy_det)\n",
    "\n",
    "print(\"Pod linią: \", len(classified_points[0].points))\n",
    "print(\"Na lini: \", len(classified_points[1].points))\n",
    "print(\"Nad linią: \", len(classified_points[2].points))"
   ],
   "metadata": {
    "collapsed": false,
    "pycharm": {
     "name": "#%%\n",
     "is_executing": false
    }
   }
  },
  {
   "cell_type": "markdown",
   "source": [
    "2. epsilon = 10^(-12)\n",
    "\n",
    "a) macierz 2x2"
   ],
   "metadata": {
    "collapsed": false
   }
  },
  {
   "cell_type": "code",
   "execution_count": 88,
   "outputs": [
    {
     "name": "stdout",
     "text": [
      "Pod linią:  76\nNa lini:  864\nNad linią:  60\n"
     ],
     "output_type": "stream"
    },
    {
     "data": {
      "text/plain": "<Figure size 432x288 with 1 Axes>",
      "image/png": "[encoded data removed]"
     },
     "metadata": {
      "needs_background": "light"
     },
     "output_type": "display_data"
    }
   ],
   "source": [
    "%matplotlib inline\n",
    "\n",
    "classified_points = classify_points(points_4, 0.000000000001)\n",
    "plotX = Plot([classified_points[0],classified_points[1],classified_points[2]])\n",
    "plotX.draw()\n",
    "\n",
    "print(\"Pod linią: \", len(classified_points[0].points))\n",
    "print(\"Na lini: \", len(classified_points[1].points))\n",
    "print(\"Nad linią: \", len(classified_points[2].points))"
   ],
   "metadata": {
    "collapsed": false,
    "pycharm": {
     "name": "#%%\n",
     "is_executing": false
    }
   }
  },
  {
   "cell_type": "markdown",
   "source": [
    "Dla wyznacznika liczonego funkcją z biblioteki numpy:"
   ],
   "metadata": {
    "collapsed": false
   }
  },
  {
   "cell_type": "code",
   "execution_count": 89,
   "outputs": [
    {
     "name": "stdout",
     "text": [
      "Pod linią:  131\nNa lini:  764\nNad linią:  105\n"
     ],
     "output_type": "stream"
    }
   ],
   "source": [
    "classified_points = classify_points(points_4,0.000000000001, det_evaluator=numpy_det)\n",
    "\n",
    "print(\"Pod linią: \", len(classified_points[0].points))\n",
    "print(\"Na lini: \", len(classified_points[1].points))\n",
    "print(\"Nad linią: \", len(classified_points[2].points))"
   ],
   "metadata": {
    "collapsed": false,
    "pycharm": {
     "name": "#%%\n",
     "is_executing": false
    }
   }
  },
  {
   "cell_type": "markdown",
   "source": [
    "b) macierz 3x3"
   ],
   "metadata": {
    "collapsed": false
   }
  },
  {
   "cell_type": "code",
   "execution_count": 90,
   "outputs": [
    {
     "name": "stdout",
     "text": [
      "Pod linią:  0\nNa lini:  1000\nNad linią:  0\n"
     ],
     "output_type": "stream"
    },
    {
     "data": {
      "text/plain": "<Figure size 432x288 with 1 Axes>",
      "image/png": "[encoded data removed]"
     },
     "metadata": {
      "needs_background": "light"
     },
     "output_type": "display_data"
    }
   ],
   "source": [
    "%matplotlib inline\n",
    "\n",
    "classified_points = classify_points(points_4, 0.000000000001,generate_matrix_3x3)\n",
    "plotX = Plot([classified_points[0],classified_points[1],classified_points[2]])\n",
    "plotX.draw()\n",
    "\n",
    "print(\"Pod linią: \", len(classified_points[0].points))\n",
    "print(\"Na lini: \", len(classified_points[1].points))\n",
    "print(\"Nad linią: \", len(classified_points[2].points))"
   ],
   "metadata": {
    "collapsed": false,
    "pycharm": {
     "name": "#%%\n",
     "is_executing": false
    }
   }
  },
  {
   "cell_type": "markdown",
   "source": [
    "Dla wyznacznika liczonego funkcją z biblioteki numpy:"
   ],
   "metadata": {
    "collapsed": false
   }
  },
  {
   "cell_type": "code",
   "execution_count": 91,
   "outputs": [
    {
     "name": "stdout",
     "text": [
      "Pod linią:  0\nNa lini:  1000\nNad linią:  0\n"
     ],
     "output_type": "stream"
    }
   ],
   "source": [
    "classified_points = classify_points(points_4,0.000000000001,generate_matrix_3x3, det_evaluator=numpy_det)\n",
    "\n",
    "print(\"Pod linią: \", len(classified_points[0].points))\n",
    "print(\"Na lini: \", len(classified_points[1].points))\n",
    "print(\"Nad linią: \", len(classified_points[2].points))"
   ],
   "metadata": {
    "collapsed": false,
    "pycharm": {
     "name": "#%%\n",
     "is_executing": false
    }
   }
  },
  {
   "cell_type": "markdown",
   "source": [
    "2. epsilon = 10^(-15)\n",
    "\n",
    "a) macierz 2x2"
   ],
   "metadata": {
    "collapsed": false
   }
  },
  {
   "cell_type": "code",
   "execution_count": 92,
   "outputs": [
    {
     "name": "stdout",
     "text": [
      "Pod linią:  163\nNa lini:  727\nNad linią:  110\n"
     ],
     "output_type": "stream"
    },
    {
     "data": {
      "text/plain": "<Figure size 432x288 with 1 Axes>",
      "image/png": "[encoded data removed]"
     },
     "metadata": {
      "needs_background": "light"
     },
     "output_type": "display_data"
    }
   ],
   "source": [
    "%matplotlib inline\n",
    "\n",
    "classified_points = classify_points(points_4, 0.000000000000001)\n",
    "plotX = Plot([classified_points[0],classified_points[1],classified_points[2]])\n",
    "plotX.draw()\n",
    "\n",
    "print(\"Pod linią: \", len(classified_points[0].points))\n",
    "print(\"Na lini: \", len(classified_points[1].points))\n",
    "print(\"Nad linią: \", len(classified_points[2].points))"
   ],
   "metadata": {
    "collapsed": false,
    "pycharm": {
     "name": "#%%\n",
     "is_executing": false
    }
   }
  },
  {
   "cell_type": "markdown",
   "source": [
    "Dla wyznacznika liczonego funkcją z biblioteki numpy:"
   ],
   "metadata": {
    "collapsed": false
   }
  },
  {
   "cell_type": "code",
   "execution_count": 93,
   "outputs": [
    {
     "name": "stdout",
     "text": [
      "Pod linią:  517\nNa lini:  34\nNad linią:  449\n"
     ],
     "output_type": "stream"
    }
   ],
   "source": [
    "classified_points = classify_points(points_4,0.000000000000001, det_evaluator=numpy_det)\n",
    "\n",
    "print(\"Pod linią: \", len(classified_points[0].points))\n",
    "print(\"Na lini: \", len(classified_points[1].points))\n",
    "print(\"Nad linią: \", len(classified_points[2].points))"
   ],
   "metadata": {
    "collapsed": false,
    "pycharm": {
     "name": "#%%\n",
     "is_executing": false
    }
   }
  },
  {
   "cell_type": "markdown",
   "source": [
    "b) macierz 3x3"
   ],
   "metadata": {
    "collapsed": false
   }
  },
  {
   "cell_type": "code",
   "execution_count": 94,
   "outputs": [
    {
     "name": "stdout",
     "text": [
      "Pod linią:  162\nNa lini:  510\nNad linią:  328\n"
     ],
     "output_type": "stream"
    },
    {
     "data": {
      "text/plain": "<Figure size 432x288 with 1 Axes>",
      "image/png": "[encoded data removed]"
     },
     "metadata": {
      "needs_background": "light"
     },
     "output_type": "display_data"
    }
   ],
   "source": [
    "%matplotlib inline\n",
    "\n",
    "classified_points = classify_points(points_4, 0.000000000000001,generate_matrix_3x3)\n",
    "plotX = Plot([classified_points[0],classified_points[1],classified_points[2]])\n",
    "plotX.draw()\n",
    "\n",
    "print(\"Pod linią: \", len(classified_points[0].points))\n",
    "print(\"Na lini: \", len(classified_points[1].points))\n",
    "print(\"Nad linią: \", len(classified_points[2].points))"
   ],
   "metadata": {
    "collapsed": false,
    "pycharm": {
     "name": "#%%\n",
     "is_executing": false
    }
   }
  },
  {
   "cell_type": "markdown",
   "source": [
    "Dla wyznacznika liczonego funkcją z biblioteki numpy:"
   ],
   "metadata": {
    "collapsed": false
   }
  },
  {
   "cell_type": "code",
   "execution_count": 95,
   "outputs": [
    {
     "name": "stdout",
     "text": [
      "Pod linią:  322\nNa lini:  278\nNad linią:  400\n"
     ],
     "output_type": "stream"
    }
   ],
   "source": [
    "classified_points = classify_points(points_4,0.000000000000001,generate_matrix_3x3, det_evaluator=numpy_det)\n",
    "\n",
    "print(\"Pod linią: \", len(classified_points[0].points))\n",
    "print(\"Na lini: \", len(classified_points[1].points))\n",
    "print(\"Nad linią: \", len(classified_points[2].points))"
   ],
   "metadata": {
    "collapsed": false,
    "pycharm": {
     "name": "#%%\n",
     "is_executing": false
    }
   }
  }
 ],
 "metadata": {
  "kernelspec": {
   "display_name": "Python 3",
   "language": "python",
   "name": "python3"
  },
  "language_info": {
   "codemirror_mode": {
    "name": "ipython",
    "version": 3
   },
   "file_extension": ".py",
   "mimetype": "text/x-python",
   "name": "python",
   "nbconvert_exporter": "python",
   "pygments_lexer": "ipython3",
   "version": "3.7.4"
  },
  "pycharm": {
   "stem_cell": {
    "cell_type": "raw",
    "source": [],
    "metadata": {
     "collapsed": false
    }
   }
  }
 },
 "nbformat": 4,
 "nbformat_minor": 4
}